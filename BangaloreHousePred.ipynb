{
 "cells": [
  {
   "cell_type": "code",
   "execution_count": 1,
   "id": "5d7e5d64",
   "metadata": {},
   "outputs": [],
   "source": [
    "import numpy as np\n",
    "import pandas as pd\n",
    "import matplotlib.pyplot as plt\n",
    "\n",
    "\n",
    "import pickle\n",
    "\n",
    "import seaborn as sns\n",
    "\n",
    "from sklearn.model_selection import train_test_split as tts\n",
    "from sklearn.model_selection import RandomizedSearchCV\n",
    "from sklearn.ensemble import RandomForestRegressor\n",
    "from sklearn.preprocessing import StandardScaler    \n",
    "import xgboost\n",
    "\n",
    "from sklearn.metrics import mean_squared_error\n",
    "from math import sqrt\n",
    "\n"
   ]
  },
  {
   "cell_type": "code",
   "execution_count": 2,
   "id": "3bea46b7",
   "metadata": {},
   "outputs": [
    {
     "data": {
      "text/html": [
       "<div>\n",
       "<style scoped>\n",
       "    .dataframe tbody tr th:only-of-type {\n",
       "        vertical-align: middle;\n",
       "    }\n",
       "\n",
       "    .dataframe tbody tr th {\n",
       "        vertical-align: top;\n",
       "    }\n",
       "\n",
       "    .dataframe thead th {\n",
       "        text-align: right;\n",
       "    }\n",
       "</style>\n",
       "<table border=\"1\" class=\"dataframe\">\n",
       "  <thead>\n",
       "    <tr style=\"text-align: right;\">\n",
       "      <th></th>\n",
       "      <th>area_type</th>\n",
       "      <th>availability</th>\n",
       "      <th>location</th>\n",
       "      <th>size</th>\n",
       "      <th>society</th>\n",
       "      <th>total_sqft</th>\n",
       "      <th>bath</th>\n",
       "      <th>balcony</th>\n",
       "      <th>price</th>\n",
       "    </tr>\n",
       "  </thead>\n",
       "  <tbody>\n",
       "    <tr>\n",
       "      <th>0</th>\n",
       "      <td>Super built-up Area</td>\n",
       "      <td>19-Dec</td>\n",
       "      <td>Electronic City Phase II</td>\n",
       "      <td>2 BHK</td>\n",
       "      <td>Coomee</td>\n",
       "      <td>1056</td>\n",
       "      <td>2.0</td>\n",
       "      <td>1.0</td>\n",
       "      <td>39.07</td>\n",
       "    </tr>\n",
       "    <tr>\n",
       "      <th>1</th>\n",
       "      <td>Plot Area</td>\n",
       "      <td>Ready To Move</td>\n",
       "      <td>Chikka Tirupathi</td>\n",
       "      <td>4 Bedroom</td>\n",
       "      <td>Theanmp</td>\n",
       "      <td>2600</td>\n",
       "      <td>5.0</td>\n",
       "      <td>3.0</td>\n",
       "      <td>120.00</td>\n",
       "    </tr>\n",
       "    <tr>\n",
       "      <th>2</th>\n",
       "      <td>Built-up Area</td>\n",
       "      <td>Ready To Move</td>\n",
       "      <td>Uttarahalli</td>\n",
       "      <td>3 BHK</td>\n",
       "      <td>NaN</td>\n",
       "      <td>1440</td>\n",
       "      <td>2.0</td>\n",
       "      <td>3.0</td>\n",
       "      <td>62.00</td>\n",
       "    </tr>\n",
       "    <tr>\n",
       "      <th>3</th>\n",
       "      <td>Super built-up Area</td>\n",
       "      <td>Ready To Move</td>\n",
       "      <td>Lingadheeranahalli</td>\n",
       "      <td>3 BHK</td>\n",
       "      <td>Soiewre</td>\n",
       "      <td>1521</td>\n",
       "      <td>3.0</td>\n",
       "      <td>1.0</td>\n",
       "      <td>95.00</td>\n",
       "    </tr>\n",
       "    <tr>\n",
       "      <th>4</th>\n",
       "      <td>Super built-up Area</td>\n",
       "      <td>Ready To Move</td>\n",
       "      <td>Kothanur</td>\n",
       "      <td>2 BHK</td>\n",
       "      <td>NaN</td>\n",
       "      <td>1200</td>\n",
       "      <td>2.0</td>\n",
       "      <td>1.0</td>\n",
       "      <td>51.00</td>\n",
       "    </tr>\n",
       "  </tbody>\n",
       "</table>\n",
       "</div>"
      ],
      "text/plain": [
       "             area_type   availability                  location       size  \\\n",
       "0  Super built-up Area         19-Dec  Electronic City Phase II      2 BHK   \n",
       "1            Plot Area  Ready To Move          Chikka Tirupathi  4 Bedroom   \n",
       "2        Built-up Area  Ready To Move               Uttarahalli      3 BHK   \n",
       "3  Super built-up Area  Ready To Move        Lingadheeranahalli      3 BHK   \n",
       "4  Super built-up Area  Ready To Move                  Kothanur      2 BHK   \n",
       "\n",
       "   society total_sqft  bath  balcony   price  \n",
       "0  Coomee        1056   2.0      1.0   39.07  \n",
       "1  Theanmp       2600   5.0      3.0  120.00  \n",
       "2      NaN       1440   2.0      3.0   62.00  \n",
       "3  Soiewre       1521   3.0      1.0   95.00  \n",
       "4      NaN       1200   2.0      1.0   51.00  "
      ]
     },
     "execution_count": 2,
     "metadata": {},
     "output_type": "execute_result"
    }
   ],
   "source": [
    "# Load the dataset\n",
    "data = pd.read_csv(\"Bengaluru_House_Data.csv\")\n",
    "data.head()\n",
    "\n",
    "#displays the first 5 rows of the dataset (by default)"
   ]
  },
  {
   "cell_type": "code",
   "execution_count": 3,
   "id": "71bb2ff6",
   "metadata": {},
   "outputs": [
    {
     "data": {
      "text/plain": [
       "(13320, 9)"
      ]
     },
     "execution_count": 3,
     "metadata": {},
     "output_type": "execute_result"
    }
   ],
   "source": [
    "data.shape\n",
    "\n",
    "#a tuple that gives number of dimensions in an array"
   ]
  },
  {
   "cell_type": "code",
   "execution_count": 4,
   "id": "a01f7072",
   "metadata": {},
   "outputs": [
    {
     "data": {
      "text/plain": [
       "<bound method NDFrame.describe of                  area_type   availability                  location  \\\n",
       "0      Super built-up Area         19-Dec  Electronic City Phase II   \n",
       "1                Plot Area  Ready To Move          Chikka Tirupathi   \n",
       "2            Built-up Area  Ready To Move               Uttarahalli   \n",
       "3      Super built-up Area  Ready To Move        Lingadheeranahalli   \n",
       "4      Super built-up Area  Ready To Move                  Kothanur   \n",
       "...                    ...            ...                       ...   \n",
       "13315        Built-up Area  Ready To Move                Whitefield   \n",
       "13316  Super built-up Area  Ready To Move             Richards Town   \n",
       "13317        Built-up Area  Ready To Move     Raja Rajeshwari Nagar   \n",
       "13318  Super built-up Area         18-Jun           Padmanabhanagar   \n",
       "13319  Super built-up Area  Ready To Move              Doddathoguru   \n",
       "\n",
       "            size  society total_sqft  bath  balcony   price  \n",
       "0          2 BHK  Coomee        1056   2.0      1.0   39.07  \n",
       "1      4 Bedroom  Theanmp       2600   5.0      3.0  120.00  \n",
       "2          3 BHK      NaN       1440   2.0      3.0   62.00  \n",
       "3          3 BHK  Soiewre       1521   3.0      1.0   95.00  \n",
       "4          2 BHK      NaN       1200   2.0      1.0   51.00  \n",
       "...          ...      ...        ...   ...      ...     ...  \n",
       "13315  5 Bedroom  ArsiaEx       3453   4.0      0.0  231.00  \n",
       "13316      4 BHK      NaN       3600   5.0      NaN  400.00  \n",
       "13317      2 BHK  Mahla T       1141   2.0      1.0   60.00  \n",
       "13318      4 BHK  SollyCl       4689   4.0      1.0  488.00  \n",
       "13319      1 BHK      NaN        550   1.0      1.0   17.00  \n",
       "\n",
       "[13320 rows x 9 columns]>"
      ]
     },
     "execution_count": 4,
     "metadata": {},
     "output_type": "execute_result"
    }
   ],
   "source": [
    "data.describe\n",
    "\n",
    "#gives description of all the data"
   ]
  },
  {
   "cell_type": "code",
   "execution_count": 5,
   "id": "20e491a5",
   "metadata": {},
   "outputs": [
    {
     "data": {
      "text/plain": [
       "area_type          0\n",
       "availability       0\n",
       "location           1\n",
       "size              16\n",
       "society         5502\n",
       "total_sqft         0\n",
       "bath              73\n",
       "balcony          609\n",
       "price              0\n",
       "dtype: int64"
      ]
     },
     "execution_count": 5,
     "metadata": {},
     "output_type": "execute_result"
    }
   ],
   "source": [
    "data.isnull().sum()\n",
    "\n",
    "#returns the number of missing values in the data set"
   ]
  },
  {
   "cell_type": "code",
   "execution_count": 6,
   "id": "bcfafb4c",
   "metadata": {},
   "outputs": [],
   "source": [
    "#Data clean: handle null values\n",
    "data = data.dropna()"
   ]
  },
  {
   "cell_type": "code",
   "execution_count": 7,
   "id": "868be378",
   "metadata": {},
   "outputs": [
    {
     "data": {
      "text/plain": [
       "array(['Super built-up Area', 'Plot Area', 'Built-up Area', 'Carpet Area'],\n",
       "      dtype=object)"
      ]
     },
     "execution_count": 7,
     "metadata": {},
     "output_type": "execute_result"
    }
   ],
   "source": [
    "data.area_type.unique()\n",
    "\n",
    "#displays all the unique values "
   ]
  },
  {
   "cell_type": "code",
   "execution_count": 8,
   "id": "7e0f9853",
   "metadata": {},
   "outputs": [],
   "source": [
    "#drop availability because it's not required \n",
    "data = data.drop('availability',axis=1)"
   ]
  },
  {
   "cell_type": "code",
   "execution_count": 9,
   "id": "c81d8210",
   "metadata": {},
   "outputs": [
    {
     "data": {
      "text/plain": [
       "array(['Electronic City Phase II', 'Chikka Tirupathi',\n",
       "       'Lingadheeranahalli', 'Whitefield', '7th Phase JP Nagar',\n",
       "       'Sarjapur', 'Mysore Road', 'Bisuvanahalli',\n",
       "       'Raja Rajeshwari Nagar', 'Ramakrishnappa Layout', 'Binny Pete',\n",
       "       'Thanisandra', ' Thanisandra', 'Electronic City',\n",
       "       'Ramagondanahalli', 'Yelahanka', 'Hebbal', 'Kanakpura Road',\n",
       "       'Kundalahalli', 'Sarjapur  Road', 'Ganga Nagar', 'Doddathoguru',\n",
       "       'Adarsh Nagar', 'Bhoganhalli', 'Lakshminarayana Pura',\n",
       "       'Begur Road', 'Varthur', 'Gunjur', 'Hegde Nagar', 'Haralur Road',\n",
       "       'Hennur Road', 'Cholanayakanahalli', 'Kodanda Reddy Layout',\n",
       "       'EPIP Zone', 'Dasanapura', 'Kasavanhalli', 'Sanjay nagar',\n",
       "       'Kengeri', 'Yeshwanthpur', 'Chandapura', 'Kothanur',\n",
       "       'Green View Layout', 'Shantiniketan Layout', 'Rajaji Nagar',\n",
       "       'Devanahalli', 'Byatarayanapura', 'Akshaya Nagar',\n",
       "       'LB Shastri Nagar', 'Hormavu', 'Peenya', 'Kudlu Gate',\n",
       "       '8th Phase JP Nagar', 'Chandra Layout', 'Anandapura',\n",
       "       'Kengeri Satellite Town', 'Basavanapura', 'Kannamangala',\n",
       "       'Hulimavu', 'Hosa Road', 'Keshava Nagar', 'RMV Extension',\n",
       "       'Tejaswini Nagar', 'Jai Bheema Nagar', 'Attibele',\n",
       "       'CV Raman Nagar', 'Malleshwaram', 'Hebbal Kempapura',\n",
       "       'Vijayanagar', 'KR Puram', 'Marathahalli', 'Pattandur Agrahara',\n",
       "       'HSR Layout', 'Kadugodi', 'Kogilu', 'Panathur', 'Kammasandra',\n",
       "       'Electronics City Phase 1', 'Tala Cauvery Layout', 'Dasarahalli',\n",
       "       'Koramangala', 'Muthurayya Swamy Layout', 'Budigere',\n",
       "       'Dodda Nekkundi Extension', 'Mylasandra', 'Kalyan nagar',\n",
       "       'Ashwath Nagar', 'Ncpr Industrial Layout', 'Meenakunte',\n",
       "       'OMBR Layout', 'Coffee Board Layout', 'Ambedkar Nagar',\n",
       "       'Geleyara Balaga Layout', 'Kalena Agrahara', 'Talaghattapura',\n",
       "       'Balagere', 'Jigani', 'Gollarapalya Hosahalli', 'Old Madras Road',\n",
       "       'Silver Springs Layout', '9th Phase JP Nagar', 'Jakkur',\n",
       "       'Maruthi Sevanagar', 'RMV 2nd Stage', 'Singasandra', 'AECS Layout',\n",
       "       'Mallasandra', 'Begur', 'JP Nagar', 'Sunder Ram Shetty Nagar',\n",
       "       'Motappa Layout', 'Kaval Byrasandra', 'Kaggalipura',\n",
       "       'Basavanna Nagar', '6th Phase JP Nagar', 'Ulsoor', 'Uttarahalli',\n",
       "       'Thigalarapalya', ' Devarachikkanahalli', 'Bommasandra',\n",
       "       'Prashanth Nagar', 'Suragajakkanahalli', 'Ardendale', 'Harlur',\n",
       "       'Sampigehalli', 'Kodihalli', 'Magadi Road', 'Narayanapura',\n",
       "       'Hennur', '5th Phase JP Nagar', 'Kodigehaali', 'Bannerghatta Road',\n",
       "       'Gopalapura', 'Billekahalli', 'Jalahalli', 'Sompura',\n",
       "       'Ashirvad Colony', 'Dodda Nekkundi', 'Hosur Road', 'Amco Colony',\n",
       "       'Ambalipura', 'Hoodi', 'Samethanahalli', 'Brookefield',\n",
       "       'Suddaguntepalya', 'Udayapur Village', 'Bellandur', 'Vittasandra',\n",
       "       'Giri Nagar', 'Chikkabidarakallu', '1 Giri Nagar', 'Hoysalanagar',\n",
       "       'Defence Colony', 'Amruthahalli', 'Patelappa Layout',\n",
       "       'Subramanyapura', '3rd Block Hrbr Layout', 'Surabhi Layout',\n",
       "       'Omkar Nagar', 'Kambipura', 'VHBCS Layout', 'Rajiv Nagar',\n",
       "       'Gattahalli', 'Arekere', 'Mico Layout', 'Munnekollal',\n",
       "       'Banashankari Stage III', 'Dooravani Nagar', 'JCR Layout',\n",
       "       'Nehru Nagar', 'Sneha Colony', 'Konanakunte', 'Ashwini layout',\n",
       "       'Gottigere', 'HRBR Layout', 'Kanakapura', 'Tumkur Road',\n",
       "       'Hosahalli', 'Jalahalli West', 'GM Palaya', 'Jalahalli East',\n",
       "       'Hosakerehalli', 'Nagondanahalli', 'Shanthala Nagar',\n",
       "       'Bettahalsoor', 'Ambedkar Colony', 'Avalahalli', 'Prakruthi Nagar',\n",
       "       'Abbigere', 'Tindlu', 'Green Garden Layout', 'Gubbalala',\n",
       "       'Dairy Circle', 'Narayana Nagar 1st Block', 'KSRTC Layout',\n",
       "       'New Gurappana Palya', 'Palanahalli', 'Vadarpalya', 'Kudlu',\n",
       "       'Old Airport Road', 'Vishwapriya Layout', 'Banashankari Stage VI',\n",
       "       'Battarahalli', 'HMT Layout', 'Kaggadasapura', 'ITI Layout',\n",
       "       'Yelahanka New Town', 'Sahakara Nagar', 'Rachenahalli',\n",
       "       'Kodbisanhalli', 'Kodichikkanahalli', 'Bendiganahalli',\n",
       "       'Ferrar Nagar', 'Green Glen Layout', 'M.G Road',\n",
       "       'Horamavu Banaswadi', '1st Phase JP Nagar', 'Kaverappa Layout',\n",
       "       'Devarabisanahalli', 'Somasundara Palya', 'Vidyaranyapura',\n",
       "       'Babusapalaya', 'Nagappa Reddy Layout', 'TC Palaya',\n",
       "       'Suraksha Nagar', 'Iblur Village', 'Yelachenahalli',\n",
       "       'Basava Nagar', '2nd Block Hrbr Layout', 'Basapura',\n",
       "       'Channasandra', 'Singena Agrahara', 'Mango Garden Layout',\n",
       "       'Choodasandra', 'Indira Nagar', 'Sai Gardens', 'Mahadevpura',\n",
       "       'Hanumanth Nagar', 'Basaveshwara Nagar', 'Kaikondrahalli',\n",
       "       'Hunasamaranahalli', 'RWF West Colony', 'Bileshivale',\n",
       "       'Neeladri Nagar', 'Frazer Town', 'Jaya Nagar East', 'Iggalur',\n",
       "       'Banashankari', 'Chamrajpet', 'VGP Layout', 'Vasanth nagar',\n",
       "       'Kalkere', 'Siddapura', 'Maragondanahalli', 'Ramamurthy Nagar',\n",
       "       'Garudachar Palya', 'Roopena Agrahara', 'Gollahalli',\n",
       "       'Sonnenahalli', 'D Souza Layout', 'Nagarbhavi', 'Bommanahalli',\n",
       "       'Chikkalasandra', 'Dommasandra', 'Byadarahalli', 'Judicial Layout',\n",
       "       'Outer Ring Road East', 'Vinayaka Nagar', 'GB Palya',\n",
       "       'Ashwathnagar', 'Kasturi Nagar', 'Belathur', 'Srirampura',\n",
       "       'Devanahalli Road', 'Ejipura', 'Green Woods Layout',\n",
       "       'Craig Park Layout', 'Immadihalli', 'Muneshwara Nagar',\n",
       "       'Rayasandra', 'Malleshpalya', 'Parappana Agrahara',\n",
       "       'Lakshmi Layout', 'Thirumenahalli', 'KPC Layout',\n",
       "       'Daadys Gaarden Layout', 'Kothannur', 'Marsur', 'Karuna Nagar',\n",
       "       'Kallumantapa', 'Malimakanapura', 'Medahalli',\n",
       "       'Rustam Bagh Layout', 'Garden Layout', 'T K Reddy Layout',\n",
       "       'Doddanekundi', 'Venkatadri Layout', 'Bommenahalli',\n",
       "       'Mahaganapathy Nagar', 'HBR Layout', 'Vittal Nagar',\n",
       "       'Bhuvaneshwari Nagar', 'Prithvi Layout', 'Domlur', 'Thubarahalli',\n",
       "       'Jaya Mahal layout', 'BSM Extension', 'Vijinapura', 'Byrasandra',\n",
       "       'Chowdeshwari Layout', 'Sector 2 HSR Layout', 'Padmanabhanagar',\n",
       "       'Badavala Nagar', '4th Block Koramangala', 'Belatur',\n",
       "       'Nallurhalli', 'Kereguddadahalli', 'Laxmi Sagar Layout',\n",
       "       'Bannerghatta', 'Harappanahalli', 'BTM Layout', 'Kanaka Nagar',\n",
       "       'NR Colony', 'Byagadadhenahalli', 'Doddabommasandra',\n",
       "       'Sarjapura - Attibele Road', 'Maruthi Layout',\n",
       "       'Sree Narayana Nagar', 'Tunganagara', 'Nagavara',\n",
       "       'Remco Bhel Layout', 'Chokkasandra', 'Panduranga Nagar',\n",
       "       'Jakkur Plantation', '1st Block Koramangala',\n",
       "       'Shree Ananth Nagar Layout', 'Hoskote', 'Sector 1 HSR Layout',\n",
       "       'BTM 2nd Stage', 'Ananth Nagar', 'Sundar Ram Shetty Nagar',\n",
       "       'Alfa Garden Layout', 'Hoodi Layout', 'Seegehalli',\n",
       "       'Gaundanapalya', '2nd Phase JP Nagar', 'Doctors Layout',\n",
       "       'Basavangudi', 'Vishwapriya Nagar', 'Sarakki Nagar', 'R.T. Nagar',\n",
       "       'Sector 7 HSR Layout', 'Hennur Gardens',\n",
       "       'Howthinarayanappa Garden', 'Bharathi Nagar', 'Cambridge Layout',\n",
       "       'Doddakannelli', 'Cox Town', 'Pulkeshi Nagar', 'Jayanagar',\n",
       "       ' Bhoganhalli', 'Pai Layout', '8th block Koramangala', 'Bidadi',\n",
       "       'Amruthnagar', 'Sathya Sai Layout', 'Rajiv Gandhi Nagar', 'Anekal',\n",
       "       'Bhagyalakshmi Avenue', 'Doddaballapur', 'Horamavu Agara',\n",
       "       'Chinnapanahalli', 'Balaji Gardens Layout', ' Rachenahalli',\n",
       "       'Akshaya Vana', 'Channasandra Layout', 'Gopalkrishna Nagar',\n",
       "       'Volagerekallahalli', 'Keerthi Layout', 'Shikaripalya', 'Hagadur',\n",
       "       'Soundarya Layout', 'Cunningham Road', 'Dollars Layout',\n",
       "       'Nagavarapalya', 'Sultan Palaya', 'Gopal Reddy Layout',\n",
       "       'Thurahalli', 'Murugeshpalya', 'Kadubeesanahalli',\n",
       "       'Cleveland Town', 'Kada Agrahara', 'Bellari Road',\n",
       "       'Abbaiah Reddy Layout', 'Tata Nagar', ' Devarabeesana Halli',\n",
       "       'Brindavan Nagar', 'Seetharampalya', 'B Narayanapura',\n",
       "       'Raghuvanahalli', 'Wilson Garden', 'Challaghatta', 'KR Garden',\n",
       "       'Kathriguppe', 'Sahyadri Layout', 'Bagalur', 'P Krishnappa Layout',\n",
       "       'Crimson Layout', 'Kyalasanahalli', 'Ckikkakammana Halli',\n",
       "       'Munivenkatppa Layout', 'Vijaya Bank Layout', 'Kumarapalli',\n",
       "       'Lingarajapuram', 'Vasantha Vallabha Nagar', 'Kalhalli',\n",
       "       'Kumaraswami Layout', 'Hadosiddapura', 'Kachanayakanahalli',\n",
       "       'Yelenahalli', '6th block Koramangala', 'Vignana Nagar',\n",
       "       'Canara Bank Colony', 'Hanumagiri', 'Benson Town',\n",
       "       'Akshayanagara West', 'OLd Gurappanapalya', 'Ramanjaneyanagar',\n",
       "       'B Channasandra', 'New Thippasandra', 'Gattigere', 'Kamakshipalya',\n",
       "       'Dollars Colony', 'Pragathi Nagar', 'HAL 2nd Stage',\n",
       "       'Poorna Pragna Layout', 'Kenchenahalli', 'Kundalahalli Colony',\n",
       "       'Amblipura', 'Vimanapura', 'Dodsworth Layout', 'Devasthanagalu',\n",
       "       'Venugopal Reddy Layout', 'Lake City', 'S R Layout',\n",
       "       'Sadduguntepalya', 'Mallathahalli', 'Doddakammanahalli',\n",
       "       'Chikkathoguru', 'Richards Town', 'BCC Layout', 'Vinayak Nagar',\n",
       "       'Jaladarsini Layout', 'Brooke Bond First Cross',\n",
       "       'Glass Factory Layout', 'Raghavendra Nagar', 'Bhuvaneswari Nagar',\n",
       "       ' Electronic City', 'Mathikere', 'Kempegowda Nagar',\n",
       "       'Nyanappana Halli', 'Nelamangala', ' Whitefield',\n",
       "       'Vaishnavi Layout', 'Naganathapura', 'Venkatapura',\n",
       "       '3rd Phase JP Nagar', 'Devarachikkanahalli', 'Anjanapura',\n",
       "       'Reliaable Tranquil Layout', 'Mailasandra', 'Chelekare',\n",
       "       'Doopanahalli', 'Kattigenahalli', 'Varthur Road', 'Bethel Nagar',\n",
       "       'Dollar Scheme Colony', 'Omarbagh Layout',\n",
       "       'Aishwarya Crystal Layout', '2nd Block Jayanagar',\n",
       "       'Nayandanahalli', 'DUO Layout', 'ISRO Layout', 'Hennur Bande',\n",
       "       'Shampura', 'Langford Gardens', 'Richmond Town',\n",
       "       'Vishwanatha Nagenahalli', 'Friends Colony', 'Shettigere',\n",
       "       'Rahat Bagh', 'NTI Layout', 'Gunjur Palya', 'Maithri Layout',\n",
       "       'Nobo Nagar', 'Krishna Reddy Layout', 'Kuvempu Layout',\n",
       "       'Kaveri Nagar', 'Devi Nagar', 'Chikkabanavar',\n",
       "       'Bommasandra Industrial Area', 'Stage-4 Bommanahalli',\n",
       "       'Banashankari Stage V', 'Manorayana Palya', 'Sathya Layout',\n",
       "       'Shanti Nagar', 'Jayamahal', 'Veer Sandra', 'Chennappa Layout',\n",
       "       'Jeevan bima nagar', 'Lavakusha Nagar', 'Vittal Mallya Road',\n",
       "       'Dena Bank Colony', 'Doddabidrakallu', 'NGR Layout',\n",
       "       'Jnana Ganga Nagar', 'Ittamadu', 'Chokkanahalli', 'Vikram Nagar',\n",
       "       'Sarvabhouma Nagar', 'Coconut Grove Layout', 'Kadabagere',\n",
       "       'Anand Nagar', 'Kammanahalli', 'Janatha Colony',\n",
       "       '1st Block Jayanagar', 'Veersandra', 'Kumbena Agrahara',\n",
       "       'Hiremath Layout', 'Nagadevanahalli', 'Yemlur',\n",
       "       'Ramamurthy Nagar Extension', 'Himagiri Meadows',\n",
       "       'Narayanappa Garden', 'Kempapura', 'Carmelaram', 'Ankappa Layout',\n",
       "       'Jakkuru Layout', 'Maruthi Nagar', 'Punappa Layout',\n",
       "       'Pampa Extension', 'Banaswadi', 'Sanne Amanikere',\n",
       "       '2nd Stage Arekere Mico Layout', 'BCMC Layout', 'Uday Nagar',\n",
       "       'Chaitanya Ananya', 'Kacharakanahalli', 'Tigalarpalya',\n",
       "       ' Banaswadi', 'Sugama Layout', 'Hongasandra', 'Anugrah Layout',\n",
       "       'Bandepalya', 'AMS Layout', 'RPC layout', 'Gulimangala',\n",
       "       'Addischetan Layout', 'Sadaramangala', 'Konena Agrahara',\n",
       "       'Raghavendra Layout', 'Varsova Layout',\n",
       "       'Raja Rajeshwari Nagar 5th Stage', '7th Block Jayanagar',\n",
       "       'Bande Nallasandra', 'Upkar Layout', 'Singapura Village',\n",
       "       'Canara Bank Layout', 'Queens Road', 'Hosapalya', 'Jagadish Nagar',\n",
       "       'Rajasree Layout', 'Chikkadunnasandra', 'Thirumalashettyhally',\n",
       "       'Vibuthipura', 'Kodigehalli', 'P&T Layout', 'Varanasi',\n",
       "       'Virudhu Nagar', 'Ramanashree Enclave', 'Chikku Lakshmaiah Layout',\n",
       "       'Shivaji Nagar', 'Chikkagubbi', 'Kammagondahalli',\n",
       "       'Yeshwanthpur Industrial Suburb', 'Thirupalya', 'Tirumanahalli',\n",
       "       'ITPL', 'NRI Layout', 'Adugodi', 'Sidedahalli', 'Shanthi Pura',\n",
       "       'Anwar Layout', 'Doddanakundi Industrial Area 2', 'RBI Layout',\n",
       "       'Shauhardha Layout', 'Bhoopsandra', '3rd Block Koramangala',\n",
       "       'Kuvempu Nagar', 'Sri Balaji Krupa Layout', \"St. John's Road\",\n",
       "       'Govindapura', 'Ayappa Nagar', 'Hessarghatta', 'Anantapuram',\n",
       "       'Chikka Banaswadi', 'Akshayanagara East', 'Guddadahalli',\n",
       "       'Kashi Nagar', 'Nanjappa Garden', 'Allalasandra',\n",
       "       'Maheswari Nagar', 'Udayagiri', 'Mahalakshmi Layout',\n",
       "       'Rahmath Nagar', 'Halanayakanahalli', 'Air View Colony',\n",
       "       'Amam Enclave Layout', 'Anantapura', 'Mallappa Layout',\n",
       "       'Devarabeesana Halli', 'Chikbasavanapura', 'Billamaranahalli',\n",
       "       'Jogupalya', 'Gulakamale', 'Mahalakshmi Puram', 'Jakkasandra',\n",
       "       'Cooke Town', 'Virupakshapura', 'Kenchenhalli', 'Church Street',\n",
       "       'Sarvobhogam Nagar', 'Near International Airport', 'Palace Road',\n",
       "       'Abshot Layout'], dtype=object)"
      ]
     },
     "execution_count": 9,
     "metadata": {},
     "output_type": "execute_result"
    }
   ],
   "source": [
    "data.location.unique()\n",
    "\n",
    "#again return unique values after removing the availability column\n"
   ]
  },
  {
   "cell_type": "code",
   "execution_count": 10,
   "id": "b992f81a",
   "metadata": {},
   "outputs": [
    {
     "data": {
      "text/plain": [
       "634"
      ]
     },
     "execution_count": 10,
     "metadata": {},
     "output_type": "execute_result"
    }
   ],
   "source": [
    "len(data.location.unique())\n",
    "\n",
    "#return the number of unique locations in the dataset"
   ]
  },
  {
   "cell_type": "code",
   "execution_count": 11,
   "id": "3c5805ef",
   "metadata": {},
   "outputs": [
    {
     "data": {
      "text/plain": [
       "location\n",
       "Whitefield                        397\n",
       "Sarjapur  Road                    310\n",
       "Electronic City                   236\n",
       "Kanakpura Road                    216\n",
       "Thanisandra                       212\n",
       "                                 ... \n",
       "Kalhalli                            1\n",
       " Bhoganhalli                        1\n",
       "KSRTC Layout                        1\n",
       "KR Garden                           1\n",
       "Yeshwanthpur Industrial Suburb      1\n",
       "Length: 634, dtype: int64"
      ]
     },
     "execution_count": 11,
     "metadata": {},
     "output_type": "execute_result"
    }
   ],
   "source": [
    "location_count = data.groupby('location').size().sort_values(ascending=False)\n",
    "location_count\n",
    "\n",
    "#groups the locations with their frequencies"
   ]
  },
  {
   "cell_type": "code",
   "execution_count": 12,
   "id": "a422b07b",
   "metadata": {},
   "outputs": [
    {
     "data": {
      "text/plain": [
       "491"
      ]
     },
     "execution_count": 12,
     "metadata": {},
     "output_type": "execute_result"
    }
   ],
   "source": [
    "len(location_count[location_count<=10])\n",
    "\n",
    "#returns no. of locations with count <=10"
   ]
  },
  {
   "cell_type": "code",
   "execution_count": 13,
   "id": "51424d6e",
   "metadata": {},
   "outputs": [],
   "source": [
    "location_less_10 = location_count[location_count<=10]\n",
    "\n",
    "#all the locations that have frequency <=10 have been named location_less_10"
   ]
  },
  {
   "cell_type": "code",
   "execution_count": 14,
   "id": "c217d732",
   "metadata": {},
   "outputs": [],
   "source": [
    "#if the location have less than 10 or 10 houses than that location are known as other location\n",
    "data.location = data.location.apply(lambda x: 'other' if x in location_less_10 else x)"
   ]
  },
  {
   "cell_type": "code",
   "execution_count": 15,
   "id": "ac51e277",
   "metadata": {},
   "outputs": [
    {
     "data": {
      "text/plain": [
       "144"
      ]
     },
     "execution_count": 15,
     "metadata": {},
     "output_type": "execute_result"
    }
   ],
   "source": [
    "len(data.location.unique())\n",
    "\n",
    "#returns the number of unique locations"
   ]
  },
  {
   "cell_type": "code",
   "execution_count": 16,
   "id": "d5f8f42f",
   "metadata": {},
   "outputs": [
    {
     "data": {
      "text/plain": [
       "array([ 2,  4,  3,  1,  5, 11,  9,  6,  7], dtype=int64)"
      ]
     },
     "execution_count": 16,
     "metadata": {},
     "output_type": "execute_result"
    }
   ],
   "source": [
    "data['bhk'] = data['size'].apply(lambda x: int(x.split(' ')[0]))\n",
    "data.bhk.unique() \n"
   ]
  },
  {
   "cell_type": "code",
   "execution_count": 17,
   "id": "311c7717",
   "metadata": {},
   "outputs": [],
   "source": [
    "def convert_sqft_to_num(x):\n",
    "    tokens = x.split('-')\n",
    "    if len(tokens) == 2:\n",
    "        return (float(tokens[0])+float(tokens[1]))/2\n",
    "    try:\n",
    "        return float(x)\n",
    "    except:\n",
    "        return None\n",
    "# in case there is a range of values, then it returns the average of the min and max value in the range"
   ]
  },
  {
   "cell_type": "code",
   "execution_count": 18,
   "id": "f9e9759f",
   "metadata": {},
   "outputs": [
    {
     "data": {
      "text/html": [
       "<div>\n",
       "<style scoped>\n",
       "    .dataframe tbody tr th:only-of-type {\n",
       "        vertical-align: middle;\n",
       "    }\n",
       "\n",
       "    .dataframe tbody tr th {\n",
       "        vertical-align: top;\n",
       "    }\n",
       "\n",
       "    .dataframe thead th {\n",
       "        text-align: right;\n",
       "    }\n",
       "</style>\n",
       "<table border=\"1\" class=\"dataframe\">\n",
       "  <thead>\n",
       "    <tr style=\"text-align: right;\">\n",
       "      <th></th>\n",
       "      <th>area_type</th>\n",
       "      <th>location</th>\n",
       "      <th>size</th>\n",
       "      <th>society</th>\n",
       "      <th>total_sqft</th>\n",
       "      <th>bath</th>\n",
       "      <th>balcony</th>\n",
       "      <th>price</th>\n",
       "      <th>bhk</th>\n",
       "    </tr>\n",
       "  </thead>\n",
       "  <tbody>\n",
       "    <tr>\n",
       "      <th>0</th>\n",
       "      <td>Super built-up Area</td>\n",
       "      <td>Electronic City Phase II</td>\n",
       "      <td>2 BHK</td>\n",
       "      <td>Coomee</td>\n",
       "      <td>1056.0</td>\n",
       "      <td>2.0</td>\n",
       "      <td>1.0</td>\n",
       "      <td>39.07</td>\n",
       "      <td>2</td>\n",
       "    </tr>\n",
       "    <tr>\n",
       "      <th>1</th>\n",
       "      <td>Plot Area</td>\n",
       "      <td>Chikka Tirupathi</td>\n",
       "      <td>4 Bedroom</td>\n",
       "      <td>Theanmp</td>\n",
       "      <td>2600.0</td>\n",
       "      <td>5.0</td>\n",
       "      <td>3.0</td>\n",
       "      <td>120.00</td>\n",
       "      <td>4</td>\n",
       "    </tr>\n",
       "    <tr>\n",
       "      <th>3</th>\n",
       "      <td>Super built-up Area</td>\n",
       "      <td>Lingadheeranahalli</td>\n",
       "      <td>3 BHK</td>\n",
       "      <td>Soiewre</td>\n",
       "      <td>1521.0</td>\n",
       "      <td>3.0</td>\n",
       "      <td>1.0</td>\n",
       "      <td>95.00</td>\n",
       "      <td>3</td>\n",
       "    </tr>\n",
       "    <tr>\n",
       "      <th>5</th>\n",
       "      <td>Super built-up Area</td>\n",
       "      <td>Whitefield</td>\n",
       "      <td>2 BHK</td>\n",
       "      <td>DuenaTa</td>\n",
       "      <td>1170.0</td>\n",
       "      <td>2.0</td>\n",
       "      <td>1.0</td>\n",
       "      <td>38.00</td>\n",
       "      <td>2</td>\n",
       "    </tr>\n",
       "    <tr>\n",
       "      <th>11</th>\n",
       "      <td>Plot Area</td>\n",
       "      <td>Whitefield</td>\n",
       "      <td>4 Bedroom</td>\n",
       "      <td>Prrry M</td>\n",
       "      <td>2785.0</td>\n",
       "      <td>5.0</td>\n",
       "      <td>3.0</td>\n",
       "      <td>295.00</td>\n",
       "      <td>4</td>\n",
       "    </tr>\n",
       "  </tbody>\n",
       "</table>\n",
       "</div>"
      ],
      "text/plain": [
       "              area_type                  location       size  society  \\\n",
       "0   Super built-up Area  Electronic City Phase II      2 BHK  Coomee    \n",
       "1             Plot Area          Chikka Tirupathi  4 Bedroom  Theanmp   \n",
       "3   Super built-up Area        Lingadheeranahalli      3 BHK  Soiewre   \n",
       "5   Super built-up Area                Whitefield      2 BHK  DuenaTa   \n",
       "11            Plot Area                Whitefield  4 Bedroom  Prrry M   \n",
       "\n",
       "    total_sqft  bath  balcony   price  bhk  \n",
       "0       1056.0   2.0      1.0   39.07    2  \n",
       "1       2600.0   5.0      3.0  120.00    4  \n",
       "3       1521.0   3.0      1.0   95.00    3  \n",
       "5       1170.0   2.0      1.0   38.00    2  \n",
       "11      2785.0   5.0      3.0  295.00    4  "
      ]
     },
     "execution_count": 18,
     "metadata": {},
     "output_type": "execute_result"
    }
   ],
   "source": [
    "data.total_sqft = data.total_sqft.apply(convert_sqft_to_num)\n",
    "data = data[data.total_sqft.notnull()]\n",
    "data.head()\n",
    "\n",
    "#saves the modified sqft by calculating averages and then displays the first 5 rows of the dataset"
   ]
  },
  {
   "cell_type": "code",
   "execution_count": 19,
   "id": "fba26c75",
   "metadata": {},
   "outputs": [],
   "source": [
    "#drop society column because it's not required\n",
    "data = data.drop('society',axis=1)"
   ]
  },
  {
   "cell_type": "code",
   "execution_count": 20,
   "id": "b1ca372a",
   "metadata": {},
   "outputs": [
    {
     "data": {
      "text/html": [
       "<div>\n",
       "<style scoped>\n",
       "    .dataframe tbody tr th:only-of-type {\n",
       "        vertical-align: middle;\n",
       "    }\n",
       "\n",
       "    .dataframe tbody tr th {\n",
       "        vertical-align: top;\n",
       "    }\n",
       "\n",
       "    .dataframe thead th {\n",
       "        text-align: right;\n",
       "    }\n",
       "</style>\n",
       "<table border=\"1\" class=\"dataframe\">\n",
       "  <thead>\n",
       "    <tr style=\"text-align: right;\">\n",
       "      <th></th>\n",
       "      <th>area_type</th>\n",
       "      <th>location</th>\n",
       "      <th>size</th>\n",
       "      <th>total_sqft</th>\n",
       "      <th>bath</th>\n",
       "      <th>balcony</th>\n",
       "      <th>price</th>\n",
       "      <th>bhk</th>\n",
       "    </tr>\n",
       "  </thead>\n",
       "  <tbody>\n",
       "    <tr>\n",
       "      <th>0</th>\n",
       "      <td>Super built-up Area</td>\n",
       "      <td>Electronic City Phase II</td>\n",
       "      <td>2 BHK</td>\n",
       "      <td>1056.0</td>\n",
       "      <td>2.0</td>\n",
       "      <td>1.0</td>\n",
       "      <td>39.07</td>\n",
       "      <td>2</td>\n",
       "    </tr>\n",
       "    <tr>\n",
       "      <th>1</th>\n",
       "      <td>Plot Area</td>\n",
       "      <td>Chikka Tirupathi</td>\n",
       "      <td>4 Bedroom</td>\n",
       "      <td>2600.0</td>\n",
       "      <td>5.0</td>\n",
       "      <td>3.0</td>\n",
       "      <td>120.00</td>\n",
       "      <td>4</td>\n",
       "    </tr>\n",
       "    <tr>\n",
       "      <th>3</th>\n",
       "      <td>Super built-up Area</td>\n",
       "      <td>Lingadheeranahalli</td>\n",
       "      <td>3 BHK</td>\n",
       "      <td>1521.0</td>\n",
       "      <td>3.0</td>\n",
       "      <td>1.0</td>\n",
       "      <td>95.00</td>\n",
       "      <td>3</td>\n",
       "    </tr>\n",
       "    <tr>\n",
       "      <th>5</th>\n",
       "      <td>Super built-up Area</td>\n",
       "      <td>Whitefield</td>\n",
       "      <td>2 BHK</td>\n",
       "      <td>1170.0</td>\n",
       "      <td>2.0</td>\n",
       "      <td>1.0</td>\n",
       "      <td>38.00</td>\n",
       "      <td>2</td>\n",
       "    </tr>\n",
       "    <tr>\n",
       "      <th>11</th>\n",
       "      <td>Plot Area</td>\n",
       "      <td>Whitefield</td>\n",
       "      <td>4 Bedroom</td>\n",
       "      <td>2785.0</td>\n",
       "      <td>5.0</td>\n",
       "      <td>3.0</td>\n",
       "      <td>295.00</td>\n",
       "      <td>4</td>\n",
       "    </tr>\n",
       "  </tbody>\n",
       "</table>\n",
       "</div>"
      ],
      "text/plain": [
       "              area_type                  location       size  total_sqft  \\\n",
       "0   Super built-up Area  Electronic City Phase II      2 BHK      1056.0   \n",
       "1             Plot Area          Chikka Tirupathi  4 Bedroom      2600.0   \n",
       "3   Super built-up Area        Lingadheeranahalli      3 BHK      1521.0   \n",
       "5   Super built-up Area                Whitefield      2 BHK      1170.0   \n",
       "11            Plot Area                Whitefield  4 Bedroom      2785.0   \n",
       "\n",
       "    bath  balcony   price  bhk  \n",
       "0    2.0      1.0   39.07    2  \n",
       "1    5.0      3.0  120.00    4  \n",
       "3    3.0      1.0   95.00    3  \n",
       "5    2.0      1.0   38.00    2  \n",
       "11   5.0      3.0  295.00    4  "
      ]
     },
     "execution_count": 20,
     "metadata": {},
     "output_type": "execute_result"
    }
   ],
   "source": [
    "data.head()\n",
    "\n",
    "#once again displays the first 5 rows"
   ]
  },
  {
   "cell_type": "code",
   "execution_count": 21,
   "id": "d4cc3ace",
   "metadata": {},
   "outputs": [],
   "source": [
    "#create new column price_sqft that contain price per sqft\n",
    "data['price_sqft'] = data.price*100000/data.total_sqft"
   ]
  },
  {
   "cell_type": "code",
   "execution_count": 22,
   "id": "73cc0347",
   "metadata": {},
   "outputs": [],
   "source": [
    "#remove outlier using standard deviation\n",
    "upper_limit = data.price_sqft.mean() + data.price_sqft.std()\n",
    "lower_limit = data.price_sqft.mean() - data.price_sqft.std()\n",
    "data = data[data.price_sqft<upper_limit] \n",
    "data = data[data.price_sqft > lower_limit]"
   ]
  },
  {
   "cell_type": "code",
   "execution_count": 23,
   "id": "3880a06c",
   "metadata": {},
   "outputs": [],
   "source": [
    "#remove 2BHK house that price per sqft is less than the mean of 1bhk house price\n",
    "def remove_bhk_outliers(data):\n",
    "    exclude_indices = np.array([])\n",
    "    for location, location_df in data.groupby('location'):\n",
    "        bhk_stats = {}\n",
    "        for bhk, bhk_df in location_df.groupby('bhk'):\n",
    "            bhk_stats[bhk] = {\n",
    "                'mean': np.mean(bhk_df.price_sqft),\n",
    "                'std': np.std(bhk_df.price_sqft),\n",
    "                'count': bhk_df.shape[0]\n",
    "            }\n",
    "        for bhk, bhk_df in location_df.groupby('bhk'):\n",
    "            stats = bhk_stats.get(bhk-1)\n",
    "            if stats and stats['count']>5:\n",
    "                exclude_indices = np.append(exclude_indices, bhk_df[bhk_df.price_sqft<(stats['mean'])].index.values)\n",
    "    return data.drop(exclude_indices,axis='index')\n",
    "data = remove_bhk_outliers(data)"
   ]
  },
  {
   "cell_type": "code",
   "execution_count": 24,
   "id": "6ec4ac45",
   "metadata": {},
   "outputs": [],
   "source": [
    "data = data.drop('price_sqft',axis=1)"
   ]
  },
  {
   "cell_type": "code",
   "execution_count": 25,
   "id": "843d43c2",
   "metadata": {},
   "outputs": [
    {
     "data": {
      "text/html": [
       "<div>\n",
       "<style scoped>\n",
       "    .dataframe tbody tr th:only-of-type {\n",
       "        vertical-align: middle;\n",
       "    }\n",
       "\n",
       "    .dataframe tbody tr th {\n",
       "        vertical-align: top;\n",
       "    }\n",
       "\n",
       "    .dataframe thead th {\n",
       "        text-align: right;\n",
       "    }\n",
       "</style>\n",
       "<table border=\"1\" class=\"dataframe\">\n",
       "  <thead>\n",
       "    <tr style=\"text-align: right;\">\n",
       "      <th></th>\n",
       "      <th>1st Phase JP Nagar</th>\n",
       "      <th>5th Phase JP Nagar</th>\n",
       "      <th>7th Phase JP Nagar</th>\n",
       "      <th>8th Phase JP Nagar</th>\n",
       "      <th>9th Phase JP Nagar</th>\n",
       "      <th>AECS Layout</th>\n",
       "      <th>Abbigere</th>\n",
       "      <th>Akshaya Nagar</th>\n",
       "      <th>Ambalipura</th>\n",
       "      <th>Ambedkar Nagar</th>\n",
       "      <th>...</th>\n",
       "      <th>Tumkur Road</th>\n",
       "      <th>Uttarahalli</th>\n",
       "      <th>Varthur</th>\n",
       "      <th>Vijayanagar</th>\n",
       "      <th>Vittasandra</th>\n",
       "      <th>Whitefield</th>\n",
       "      <th>Yelahanka</th>\n",
       "      <th>Yelahanka New Town</th>\n",
       "      <th>Yeshwanthpur</th>\n",
       "      <th>other</th>\n",
       "    </tr>\n",
       "  </thead>\n",
       "  <tbody>\n",
       "    <tr>\n",
       "      <th>0</th>\n",
       "      <td>0</td>\n",
       "      <td>0</td>\n",
       "      <td>0</td>\n",
       "      <td>0</td>\n",
       "      <td>0</td>\n",
       "      <td>0</td>\n",
       "      <td>0</td>\n",
       "      <td>0</td>\n",
       "      <td>0</td>\n",
       "      <td>0</td>\n",
       "      <td>...</td>\n",
       "      <td>0</td>\n",
       "      <td>0</td>\n",
       "      <td>0</td>\n",
       "      <td>0</td>\n",
       "      <td>0</td>\n",
       "      <td>0</td>\n",
       "      <td>0</td>\n",
       "      <td>0</td>\n",
       "      <td>0</td>\n",
       "      <td>0</td>\n",
       "    </tr>\n",
       "    <tr>\n",
       "      <th>1</th>\n",
       "      <td>0</td>\n",
       "      <td>0</td>\n",
       "      <td>0</td>\n",
       "      <td>0</td>\n",
       "      <td>0</td>\n",
       "      <td>0</td>\n",
       "      <td>0</td>\n",
       "      <td>0</td>\n",
       "      <td>0</td>\n",
       "      <td>0</td>\n",
       "      <td>...</td>\n",
       "      <td>0</td>\n",
       "      <td>0</td>\n",
       "      <td>0</td>\n",
       "      <td>0</td>\n",
       "      <td>0</td>\n",
       "      <td>0</td>\n",
       "      <td>0</td>\n",
       "      <td>0</td>\n",
       "      <td>0</td>\n",
       "      <td>0</td>\n",
       "    </tr>\n",
       "    <tr>\n",
       "      <th>3</th>\n",
       "      <td>0</td>\n",
       "      <td>0</td>\n",
       "      <td>0</td>\n",
       "      <td>0</td>\n",
       "      <td>0</td>\n",
       "      <td>0</td>\n",
       "      <td>0</td>\n",
       "      <td>0</td>\n",
       "      <td>0</td>\n",
       "      <td>0</td>\n",
       "      <td>...</td>\n",
       "      <td>0</td>\n",
       "      <td>0</td>\n",
       "      <td>0</td>\n",
       "      <td>0</td>\n",
       "      <td>0</td>\n",
       "      <td>0</td>\n",
       "      <td>0</td>\n",
       "      <td>0</td>\n",
       "      <td>0</td>\n",
       "      <td>0</td>\n",
       "    </tr>\n",
       "    <tr>\n",
       "      <th>11</th>\n",
       "      <td>0</td>\n",
       "      <td>0</td>\n",
       "      <td>0</td>\n",
       "      <td>0</td>\n",
       "      <td>0</td>\n",
       "      <td>0</td>\n",
       "      <td>0</td>\n",
       "      <td>0</td>\n",
       "      <td>0</td>\n",
       "      <td>0</td>\n",
       "      <td>...</td>\n",
       "      <td>0</td>\n",
       "      <td>0</td>\n",
       "      <td>0</td>\n",
       "      <td>0</td>\n",
       "      <td>0</td>\n",
       "      <td>1</td>\n",
       "      <td>0</td>\n",
       "      <td>0</td>\n",
       "      <td>0</td>\n",
       "      <td>0</td>\n",
       "    </tr>\n",
       "    <tr>\n",
       "      <th>12</th>\n",
       "      <td>0</td>\n",
       "      <td>0</td>\n",
       "      <td>1</td>\n",
       "      <td>0</td>\n",
       "      <td>0</td>\n",
       "      <td>0</td>\n",
       "      <td>0</td>\n",
       "      <td>0</td>\n",
       "      <td>0</td>\n",
       "      <td>0</td>\n",
       "      <td>...</td>\n",
       "      <td>0</td>\n",
       "      <td>0</td>\n",
       "      <td>0</td>\n",
       "      <td>0</td>\n",
       "      <td>0</td>\n",
       "      <td>0</td>\n",
       "      <td>0</td>\n",
       "      <td>0</td>\n",
       "      <td>0</td>\n",
       "      <td>0</td>\n",
       "    </tr>\n",
       "  </tbody>\n",
       "</table>\n",
       "<p>5 rows × 144 columns</p>\n",
       "</div>"
      ],
      "text/plain": [
       "    1st Phase JP Nagar  5th Phase JP Nagar  7th Phase JP Nagar  \\\n",
       "0                    0                   0                   0   \n",
       "1                    0                   0                   0   \n",
       "3                    0                   0                   0   \n",
       "11                   0                   0                   0   \n",
       "12                   0                   0                   1   \n",
       "\n",
       "    8th Phase JP Nagar  9th Phase JP Nagar  AECS Layout  Abbigere  \\\n",
       "0                    0                   0            0         0   \n",
       "1                    0                   0            0         0   \n",
       "3                    0                   0            0         0   \n",
       "11                   0                   0            0         0   \n",
       "12                   0                   0            0         0   \n",
       "\n",
       "    Akshaya Nagar  Ambalipura  Ambedkar Nagar  ...  Tumkur Road  Uttarahalli  \\\n",
       "0               0           0               0  ...            0            0   \n",
       "1               0           0               0  ...            0            0   \n",
       "3               0           0               0  ...            0            0   \n",
       "11              0           0               0  ...            0            0   \n",
       "12              0           0               0  ...            0            0   \n",
       "\n",
       "    Varthur  Vijayanagar  Vittasandra  Whitefield  Yelahanka  \\\n",
       "0         0            0            0           0          0   \n",
       "1         0            0            0           0          0   \n",
       "3         0            0            0           0          0   \n",
       "11        0            0            0           1          0   \n",
       "12        0            0            0           0          0   \n",
       "\n",
       "    Yelahanka New Town  Yeshwanthpur  other  \n",
       "0                    0             0      0  \n",
       "1                    0             0      0  \n",
       "3                    0             0      0  \n",
       "11                   0             0      0  \n",
       "12                   0             0      0  \n",
       "\n",
       "[5 rows x 144 columns]"
      ]
     },
     "execution_count": 25,
     "metadata": {},
     "output_type": "execute_result"
    }
   ],
   "source": [
    "#apply one hot encoding in location column\n",
    "dummies = pd.get_dummies(data.location)\n",
    "location_cat = pd.get_dummies(data.location)\n",
    "dummies.head()"
   ]
  },
  {
   "cell_type": "code",
   "execution_count": 26,
   "id": "2113fbc5",
   "metadata": {},
   "outputs": [
    {
     "data": {
      "text/html": [
       "<div>\n",
       "<style scoped>\n",
       "    .dataframe tbody tr th:only-of-type {\n",
       "        vertical-align: middle;\n",
       "    }\n",
       "\n",
       "    .dataframe tbody tr th {\n",
       "        vertical-align: top;\n",
       "    }\n",
       "\n",
       "    .dataframe thead th {\n",
       "        text-align: right;\n",
       "    }\n",
       "</style>\n",
       "<table border=\"1\" class=\"dataframe\">\n",
       "  <thead>\n",
       "    <tr style=\"text-align: right;\">\n",
       "      <th></th>\n",
       "      <th>area_type</th>\n",
       "      <th>location</th>\n",
       "      <th>size</th>\n",
       "      <th>total_sqft</th>\n",
       "      <th>bath</th>\n",
       "      <th>balcony</th>\n",
       "      <th>price</th>\n",
       "      <th>bhk</th>\n",
       "      <th>5th Phase JP Nagar</th>\n",
       "      <th>7th Phase JP Nagar</th>\n",
       "      <th>...</th>\n",
       "      <th>Tumkur Road</th>\n",
       "      <th>Uttarahalli</th>\n",
       "      <th>Varthur</th>\n",
       "      <th>Vijayanagar</th>\n",
       "      <th>Vittasandra</th>\n",
       "      <th>Whitefield</th>\n",
       "      <th>Yelahanka</th>\n",
       "      <th>Yelahanka New Town</th>\n",
       "      <th>Yeshwanthpur</th>\n",
       "      <th>other</th>\n",
       "    </tr>\n",
       "  </thead>\n",
       "  <tbody>\n",
       "    <tr>\n",
       "      <th>0</th>\n",
       "      <td>Super built-up Area</td>\n",
       "      <td>Electronic City Phase II</td>\n",
       "      <td>2 BHK</td>\n",
       "      <td>1056.0</td>\n",
       "      <td>2.0</td>\n",
       "      <td>1.0</td>\n",
       "      <td>39.07</td>\n",
       "      <td>2</td>\n",
       "      <td>0</td>\n",
       "      <td>0</td>\n",
       "      <td>...</td>\n",
       "      <td>0</td>\n",
       "      <td>0</td>\n",
       "      <td>0</td>\n",
       "      <td>0</td>\n",
       "      <td>0</td>\n",
       "      <td>0</td>\n",
       "      <td>0</td>\n",
       "      <td>0</td>\n",
       "      <td>0</td>\n",
       "      <td>0</td>\n",
       "    </tr>\n",
       "    <tr>\n",
       "      <th>1</th>\n",
       "      <td>Plot Area</td>\n",
       "      <td>Chikka Tirupathi</td>\n",
       "      <td>4 Bedroom</td>\n",
       "      <td>2600.0</td>\n",
       "      <td>5.0</td>\n",
       "      <td>3.0</td>\n",
       "      <td>120.00</td>\n",
       "      <td>4</td>\n",
       "      <td>0</td>\n",
       "      <td>0</td>\n",
       "      <td>...</td>\n",
       "      <td>0</td>\n",
       "      <td>0</td>\n",
       "      <td>0</td>\n",
       "      <td>0</td>\n",
       "      <td>0</td>\n",
       "      <td>0</td>\n",
       "      <td>0</td>\n",
       "      <td>0</td>\n",
       "      <td>0</td>\n",
       "      <td>0</td>\n",
       "    </tr>\n",
       "    <tr>\n",
       "      <th>3</th>\n",
       "      <td>Super built-up Area</td>\n",
       "      <td>Lingadheeranahalli</td>\n",
       "      <td>3 BHK</td>\n",
       "      <td>1521.0</td>\n",
       "      <td>3.0</td>\n",
       "      <td>1.0</td>\n",
       "      <td>95.00</td>\n",
       "      <td>3</td>\n",
       "      <td>0</td>\n",
       "      <td>0</td>\n",
       "      <td>...</td>\n",
       "      <td>0</td>\n",
       "      <td>0</td>\n",
       "      <td>0</td>\n",
       "      <td>0</td>\n",
       "      <td>0</td>\n",
       "      <td>0</td>\n",
       "      <td>0</td>\n",
       "      <td>0</td>\n",
       "      <td>0</td>\n",
       "      <td>0</td>\n",
       "    </tr>\n",
       "    <tr>\n",
       "      <th>11</th>\n",
       "      <td>Plot Area</td>\n",
       "      <td>Whitefield</td>\n",
       "      <td>4 Bedroom</td>\n",
       "      <td>2785.0</td>\n",
       "      <td>5.0</td>\n",
       "      <td>3.0</td>\n",
       "      <td>295.00</td>\n",
       "      <td>4</td>\n",
       "      <td>0</td>\n",
       "      <td>0</td>\n",
       "      <td>...</td>\n",
       "      <td>0</td>\n",
       "      <td>0</td>\n",
       "      <td>0</td>\n",
       "      <td>0</td>\n",
       "      <td>0</td>\n",
       "      <td>1</td>\n",
       "      <td>0</td>\n",
       "      <td>0</td>\n",
       "      <td>0</td>\n",
       "      <td>0</td>\n",
       "    </tr>\n",
       "    <tr>\n",
       "      <th>12</th>\n",
       "      <td>Super built-up Area</td>\n",
       "      <td>7th Phase JP Nagar</td>\n",
       "      <td>2 BHK</td>\n",
       "      <td>1000.0</td>\n",
       "      <td>2.0</td>\n",
       "      <td>1.0</td>\n",
       "      <td>38.00</td>\n",
       "      <td>2</td>\n",
       "      <td>0</td>\n",
       "      <td>1</td>\n",
       "      <td>...</td>\n",
       "      <td>0</td>\n",
       "      <td>0</td>\n",
       "      <td>0</td>\n",
       "      <td>0</td>\n",
       "      <td>0</td>\n",
       "      <td>0</td>\n",
       "      <td>0</td>\n",
       "      <td>0</td>\n",
       "      <td>0</td>\n",
       "      <td>0</td>\n",
       "    </tr>\n",
       "  </tbody>\n",
       "</table>\n",
       "<p>5 rows × 151 columns</p>\n",
       "</div>"
      ],
      "text/plain": [
       "              area_type                  location       size  total_sqft  \\\n",
       "0   Super built-up Area  Electronic City Phase II      2 BHK      1056.0   \n",
       "1             Plot Area          Chikka Tirupathi  4 Bedroom      2600.0   \n",
       "3   Super built-up Area        Lingadheeranahalli      3 BHK      1521.0   \n",
       "11            Plot Area                Whitefield  4 Bedroom      2785.0   \n",
       "12  Super built-up Area        7th Phase JP Nagar      2 BHK      1000.0   \n",
       "\n",
       "    bath  balcony   price  bhk  5th Phase JP Nagar  7th Phase JP Nagar  ...  \\\n",
       "0    2.0      1.0   39.07    2                   0                   0  ...   \n",
       "1    5.0      3.0  120.00    4                   0                   0  ...   \n",
       "3    3.0      1.0   95.00    3                   0                   0  ...   \n",
       "11   5.0      3.0  295.00    4                   0                   0  ...   \n",
       "12   2.0      1.0   38.00    2                   0                   1  ...   \n",
       "\n",
       "    Tumkur Road  Uttarahalli  Varthur  Vijayanagar  Vittasandra  Whitefield  \\\n",
       "0             0            0        0            0            0           0   \n",
       "1             0            0        0            0            0           0   \n",
       "3             0            0        0            0            0           0   \n",
       "11            0            0        0            0            0           1   \n",
       "12            0            0        0            0            0           0   \n",
       "\n",
       "    Yelahanka  Yelahanka New Town  Yeshwanthpur  other  \n",
       "0           0                   0             0      0  \n",
       "1           0                   0             0      0  \n",
       "3           0                   0             0      0  \n",
       "11          0                   0             0      0  \n",
       "12          0                   0             0      0  \n",
       "\n",
       "[5 rows x 151 columns]"
      ]
     },
     "execution_count": 26,
     "metadata": {},
     "output_type": "execute_result"
    }
   ],
   "source": [
    "data = pd.concat([data,dummies.drop('1st Phase JP Nagar',axis='columns')],axis='columns')\n",
    "data.head()"
   ]
  },
  {
   "cell_type": "code",
   "execution_count": 27,
   "id": "4849e485",
   "metadata": {},
   "outputs": [
    {
     "data": {
      "text/html": [
       "<div>\n",
       "<style scoped>\n",
       "    .dataframe tbody tr th:only-of-type {\n",
       "        vertical-align: middle;\n",
       "    }\n",
       "\n",
       "    .dataframe tbody tr th {\n",
       "        vertical-align: top;\n",
       "    }\n",
       "\n",
       "    .dataframe thead th {\n",
       "        text-align: right;\n",
       "    }\n",
       "</style>\n",
       "<table border=\"1\" class=\"dataframe\">\n",
       "  <thead>\n",
       "    <tr style=\"text-align: right;\">\n",
       "      <th></th>\n",
       "      <th>Built-up Area</th>\n",
       "      <th>Carpet Area</th>\n",
       "      <th>Plot Area</th>\n",
       "      <th>Super built-up Area</th>\n",
       "    </tr>\n",
       "  </thead>\n",
       "  <tbody>\n",
       "    <tr>\n",
       "      <th>0</th>\n",
       "      <td>0</td>\n",
       "      <td>0</td>\n",
       "      <td>0</td>\n",
       "      <td>1</td>\n",
       "    </tr>\n",
       "    <tr>\n",
       "      <th>1</th>\n",
       "      <td>0</td>\n",
       "      <td>0</td>\n",
       "      <td>1</td>\n",
       "      <td>0</td>\n",
       "    </tr>\n",
       "    <tr>\n",
       "      <th>3</th>\n",
       "      <td>0</td>\n",
       "      <td>0</td>\n",
       "      <td>0</td>\n",
       "      <td>1</td>\n",
       "    </tr>\n",
       "    <tr>\n",
       "      <th>11</th>\n",
       "      <td>0</td>\n",
       "      <td>0</td>\n",
       "      <td>1</td>\n",
       "      <td>0</td>\n",
       "    </tr>\n",
       "    <tr>\n",
       "      <th>12</th>\n",
       "      <td>0</td>\n",
       "      <td>0</td>\n",
       "      <td>0</td>\n",
       "      <td>1</td>\n",
       "    </tr>\n",
       "  </tbody>\n",
       "</table>\n",
       "</div>"
      ],
      "text/plain": [
       "    Built-up Area  Carpet Area  Plot Area  Super built-up Area\n",
       "0               0            0          0                    1\n",
       "1               0            0          1                    0\n",
       "3               0            0          0                    1\n",
       "11              0            0          1                    0\n",
       "12              0            0          0                    1"
      ]
     },
     "execution_count": 27,
     "metadata": {},
     "output_type": "execute_result"
    }
   ],
   "source": [
    "#apply one hot encoding in area column\n",
    "dummies = pd.get_dummies(data.area_type)\n",
    "dummies.head()"
   ]
  },
  {
   "cell_type": "code",
   "execution_count": 28,
   "id": "c4fb415a",
   "metadata": {},
   "outputs": [
    {
     "data": {
      "text/html": [
       "<div>\n",
       "<style scoped>\n",
       "    .dataframe tbody tr th:only-of-type {\n",
       "        vertical-align: middle;\n",
       "    }\n",
       "\n",
       "    .dataframe tbody tr th {\n",
       "        vertical-align: top;\n",
       "    }\n",
       "\n",
       "    .dataframe thead th {\n",
       "        text-align: right;\n",
       "    }\n",
       "</style>\n",
       "<table border=\"1\" class=\"dataframe\">\n",
       "  <thead>\n",
       "    <tr style=\"text-align: right;\">\n",
       "      <th></th>\n",
       "      <th>area_type</th>\n",
       "      <th>location</th>\n",
       "      <th>size</th>\n",
       "      <th>total_sqft</th>\n",
       "      <th>bath</th>\n",
       "      <th>balcony</th>\n",
       "      <th>price</th>\n",
       "      <th>bhk</th>\n",
       "      <th>5th Phase JP Nagar</th>\n",
       "      <th>7th Phase JP Nagar</th>\n",
       "      <th>...</th>\n",
       "      <th>Vittasandra</th>\n",
       "      <th>Whitefield</th>\n",
       "      <th>Yelahanka</th>\n",
       "      <th>Yelahanka New Town</th>\n",
       "      <th>Yeshwanthpur</th>\n",
       "      <th>other</th>\n",
       "      <th>Built-up Area</th>\n",
       "      <th>Carpet Area</th>\n",
       "      <th>Plot Area</th>\n",
       "      <th>Super built-up Area</th>\n",
       "    </tr>\n",
       "  </thead>\n",
       "  <tbody>\n",
       "    <tr>\n",
       "      <th>0</th>\n",
       "      <td>Super built-up Area</td>\n",
       "      <td>Electronic City Phase II</td>\n",
       "      <td>2 BHK</td>\n",
       "      <td>1056.0</td>\n",
       "      <td>2.0</td>\n",
       "      <td>1.0</td>\n",
       "      <td>39.07</td>\n",
       "      <td>2</td>\n",
       "      <td>0</td>\n",
       "      <td>0</td>\n",
       "      <td>...</td>\n",
       "      <td>0</td>\n",
       "      <td>0</td>\n",
       "      <td>0</td>\n",
       "      <td>0</td>\n",
       "      <td>0</td>\n",
       "      <td>0</td>\n",
       "      <td>0</td>\n",
       "      <td>0</td>\n",
       "      <td>0</td>\n",
       "      <td>1</td>\n",
       "    </tr>\n",
       "    <tr>\n",
       "      <th>1</th>\n",
       "      <td>Plot Area</td>\n",
       "      <td>Chikka Tirupathi</td>\n",
       "      <td>4 Bedroom</td>\n",
       "      <td>2600.0</td>\n",
       "      <td>5.0</td>\n",
       "      <td>3.0</td>\n",
       "      <td>120.00</td>\n",
       "      <td>4</td>\n",
       "      <td>0</td>\n",
       "      <td>0</td>\n",
       "      <td>...</td>\n",
       "      <td>0</td>\n",
       "      <td>0</td>\n",
       "      <td>0</td>\n",
       "      <td>0</td>\n",
       "      <td>0</td>\n",
       "      <td>0</td>\n",
       "      <td>0</td>\n",
       "      <td>0</td>\n",
       "      <td>1</td>\n",
       "      <td>0</td>\n",
       "    </tr>\n",
       "    <tr>\n",
       "      <th>3</th>\n",
       "      <td>Super built-up Area</td>\n",
       "      <td>Lingadheeranahalli</td>\n",
       "      <td>3 BHK</td>\n",
       "      <td>1521.0</td>\n",
       "      <td>3.0</td>\n",
       "      <td>1.0</td>\n",
       "      <td>95.00</td>\n",
       "      <td>3</td>\n",
       "      <td>0</td>\n",
       "      <td>0</td>\n",
       "      <td>...</td>\n",
       "      <td>0</td>\n",
       "      <td>0</td>\n",
       "      <td>0</td>\n",
       "      <td>0</td>\n",
       "      <td>0</td>\n",
       "      <td>0</td>\n",
       "      <td>0</td>\n",
       "      <td>0</td>\n",
       "      <td>0</td>\n",
       "      <td>1</td>\n",
       "    </tr>\n",
       "    <tr>\n",
       "      <th>11</th>\n",
       "      <td>Plot Area</td>\n",
       "      <td>Whitefield</td>\n",
       "      <td>4 Bedroom</td>\n",
       "      <td>2785.0</td>\n",
       "      <td>5.0</td>\n",
       "      <td>3.0</td>\n",
       "      <td>295.00</td>\n",
       "      <td>4</td>\n",
       "      <td>0</td>\n",
       "      <td>0</td>\n",
       "      <td>...</td>\n",
       "      <td>0</td>\n",
       "      <td>1</td>\n",
       "      <td>0</td>\n",
       "      <td>0</td>\n",
       "      <td>0</td>\n",
       "      <td>0</td>\n",
       "      <td>0</td>\n",
       "      <td>0</td>\n",
       "      <td>1</td>\n",
       "      <td>0</td>\n",
       "    </tr>\n",
       "    <tr>\n",
       "      <th>12</th>\n",
       "      <td>Super built-up Area</td>\n",
       "      <td>7th Phase JP Nagar</td>\n",
       "      <td>2 BHK</td>\n",
       "      <td>1000.0</td>\n",
       "      <td>2.0</td>\n",
       "      <td>1.0</td>\n",
       "      <td>38.00</td>\n",
       "      <td>2</td>\n",
       "      <td>0</td>\n",
       "      <td>1</td>\n",
       "      <td>...</td>\n",
       "      <td>0</td>\n",
       "      <td>0</td>\n",
       "      <td>0</td>\n",
       "      <td>0</td>\n",
       "      <td>0</td>\n",
       "      <td>0</td>\n",
       "      <td>0</td>\n",
       "      <td>0</td>\n",
       "      <td>0</td>\n",
       "      <td>1</td>\n",
       "    </tr>\n",
       "  </tbody>\n",
       "</table>\n",
       "<p>5 rows × 155 columns</p>\n",
       "</div>"
      ],
      "text/plain": [
       "              area_type                  location       size  total_sqft  \\\n",
       "0   Super built-up Area  Electronic City Phase II      2 BHK      1056.0   \n",
       "1             Plot Area          Chikka Tirupathi  4 Bedroom      2600.0   \n",
       "3   Super built-up Area        Lingadheeranahalli      3 BHK      1521.0   \n",
       "11            Plot Area                Whitefield  4 Bedroom      2785.0   \n",
       "12  Super built-up Area        7th Phase JP Nagar      2 BHK      1000.0   \n",
       "\n",
       "    bath  balcony   price  bhk  5th Phase JP Nagar  7th Phase JP Nagar  ...  \\\n",
       "0    2.0      1.0   39.07    2                   0                   0  ...   \n",
       "1    5.0      3.0  120.00    4                   0                   0  ...   \n",
       "3    3.0      1.0   95.00    3                   0                   0  ...   \n",
       "11   5.0      3.0  295.00    4                   0                   0  ...   \n",
       "12   2.0      1.0   38.00    2                   0                   1  ...   \n",
       "\n",
       "    Vittasandra  Whitefield  Yelahanka  Yelahanka New Town  Yeshwanthpur  \\\n",
       "0             0           0          0                   0             0   \n",
       "1             0           0          0                   0             0   \n",
       "3             0           0          0                   0             0   \n",
       "11            0           1          0                   0             0   \n",
       "12            0           0          0                   0             0   \n",
       "\n",
       "    other  Built-up Area  Carpet Area  Plot Area  Super built-up Area  \n",
       "0       0              0            0          0                    1  \n",
       "1       0              0            0          1                    0  \n",
       "3       0              0            0          0                    1  \n",
       "11      0              0            0          1                    0  \n",
       "12      0              0            0          0                    1  \n",
       "\n",
       "[5 rows x 155 columns]"
      ]
     },
     "execution_count": 28,
     "metadata": {},
     "output_type": "execute_result"
    }
   ],
   "source": [
    "data = pd.concat([data,dummies],axis='columns')\n",
    "data.head()"
   ]
  },
  {
   "cell_type": "code",
   "execution_count": 29,
   "id": "a04c4b7c",
   "metadata": {},
   "outputs": [],
   "source": [
    "data = data.drop(['location','size','area_type'] , axis=1)"
   ]
  },
  {
   "cell_type": "code",
   "execution_count": 30,
   "id": "db8488bd",
   "metadata": {},
   "outputs": [
    {
     "data": {
      "text/html": [
       "<div>\n",
       "<style scoped>\n",
       "    .dataframe tbody tr th:only-of-type {\n",
       "        vertical-align: middle;\n",
       "    }\n",
       "\n",
       "    .dataframe tbody tr th {\n",
       "        vertical-align: top;\n",
       "    }\n",
       "\n",
       "    .dataframe thead th {\n",
       "        text-align: right;\n",
       "    }\n",
       "</style>\n",
       "<table border=\"1\" class=\"dataframe\">\n",
       "  <thead>\n",
       "    <tr style=\"text-align: right;\">\n",
       "      <th></th>\n",
       "      <th>total_sqft</th>\n",
       "      <th>bath</th>\n",
       "      <th>balcony</th>\n",
       "      <th>price</th>\n",
       "      <th>bhk</th>\n",
       "      <th>5th Phase JP Nagar</th>\n",
       "      <th>7th Phase JP Nagar</th>\n",
       "      <th>8th Phase JP Nagar</th>\n",
       "      <th>9th Phase JP Nagar</th>\n",
       "      <th>AECS Layout</th>\n",
       "      <th>...</th>\n",
       "      <th>Vittasandra</th>\n",
       "      <th>Whitefield</th>\n",
       "      <th>Yelahanka</th>\n",
       "      <th>Yelahanka New Town</th>\n",
       "      <th>Yeshwanthpur</th>\n",
       "      <th>other</th>\n",
       "      <th>Built-up Area</th>\n",
       "      <th>Carpet Area</th>\n",
       "      <th>Plot Area</th>\n",
       "      <th>Super built-up Area</th>\n",
       "    </tr>\n",
       "  </thead>\n",
       "  <tbody>\n",
       "    <tr>\n",
       "      <th>0</th>\n",
       "      <td>1056.0</td>\n",
       "      <td>2.0</td>\n",
       "      <td>1.0</td>\n",
       "      <td>39.07</td>\n",
       "      <td>2</td>\n",
       "      <td>0</td>\n",
       "      <td>0</td>\n",
       "      <td>0</td>\n",
       "      <td>0</td>\n",
       "      <td>0</td>\n",
       "      <td>...</td>\n",
       "      <td>0</td>\n",
       "      <td>0</td>\n",
       "      <td>0</td>\n",
       "      <td>0</td>\n",
       "      <td>0</td>\n",
       "      <td>0</td>\n",
       "      <td>0</td>\n",
       "      <td>0</td>\n",
       "      <td>0</td>\n",
       "      <td>1</td>\n",
       "    </tr>\n",
       "    <tr>\n",
       "      <th>1</th>\n",
       "      <td>2600.0</td>\n",
       "      <td>5.0</td>\n",
       "      <td>3.0</td>\n",
       "      <td>120.00</td>\n",
       "      <td>4</td>\n",
       "      <td>0</td>\n",
       "      <td>0</td>\n",
       "      <td>0</td>\n",
       "      <td>0</td>\n",
       "      <td>0</td>\n",
       "      <td>...</td>\n",
       "      <td>0</td>\n",
       "      <td>0</td>\n",
       "      <td>0</td>\n",
       "      <td>0</td>\n",
       "      <td>0</td>\n",
       "      <td>0</td>\n",
       "      <td>0</td>\n",
       "      <td>0</td>\n",
       "      <td>1</td>\n",
       "      <td>0</td>\n",
       "    </tr>\n",
       "    <tr>\n",
       "      <th>3</th>\n",
       "      <td>1521.0</td>\n",
       "      <td>3.0</td>\n",
       "      <td>1.0</td>\n",
       "      <td>95.00</td>\n",
       "      <td>3</td>\n",
       "      <td>0</td>\n",
       "      <td>0</td>\n",
       "      <td>0</td>\n",
       "      <td>0</td>\n",
       "      <td>0</td>\n",
       "      <td>...</td>\n",
       "      <td>0</td>\n",
       "      <td>0</td>\n",
       "      <td>0</td>\n",
       "      <td>0</td>\n",
       "      <td>0</td>\n",
       "      <td>0</td>\n",
       "      <td>0</td>\n",
       "      <td>0</td>\n",
       "      <td>0</td>\n",
       "      <td>1</td>\n",
       "    </tr>\n",
       "    <tr>\n",
       "      <th>11</th>\n",
       "      <td>2785.0</td>\n",
       "      <td>5.0</td>\n",
       "      <td>3.0</td>\n",
       "      <td>295.00</td>\n",
       "      <td>4</td>\n",
       "      <td>0</td>\n",
       "      <td>0</td>\n",
       "      <td>0</td>\n",
       "      <td>0</td>\n",
       "      <td>0</td>\n",
       "      <td>...</td>\n",
       "      <td>0</td>\n",
       "      <td>1</td>\n",
       "      <td>0</td>\n",
       "      <td>0</td>\n",
       "      <td>0</td>\n",
       "      <td>0</td>\n",
       "      <td>0</td>\n",
       "      <td>0</td>\n",
       "      <td>1</td>\n",
       "      <td>0</td>\n",
       "    </tr>\n",
       "    <tr>\n",
       "      <th>12</th>\n",
       "      <td>1000.0</td>\n",
       "      <td>2.0</td>\n",
       "      <td>1.0</td>\n",
       "      <td>38.00</td>\n",
       "      <td>2</td>\n",
       "      <td>0</td>\n",
       "      <td>1</td>\n",
       "      <td>0</td>\n",
       "      <td>0</td>\n",
       "      <td>0</td>\n",
       "      <td>...</td>\n",
       "      <td>0</td>\n",
       "      <td>0</td>\n",
       "      <td>0</td>\n",
       "      <td>0</td>\n",
       "      <td>0</td>\n",
       "      <td>0</td>\n",
       "      <td>0</td>\n",
       "      <td>0</td>\n",
       "      <td>0</td>\n",
       "      <td>1</td>\n",
       "    </tr>\n",
       "  </tbody>\n",
       "</table>\n",
       "<p>5 rows × 152 columns</p>\n",
       "</div>"
      ],
      "text/plain": [
       "    total_sqft  bath  balcony   price  bhk  5th Phase JP Nagar  \\\n",
       "0       1056.0   2.0      1.0   39.07    2                   0   \n",
       "1       2600.0   5.0      3.0  120.00    4                   0   \n",
       "3       1521.0   3.0      1.0   95.00    3                   0   \n",
       "11      2785.0   5.0      3.0  295.00    4                   0   \n",
       "12      1000.0   2.0      1.0   38.00    2                   0   \n",
       "\n",
       "    7th Phase JP Nagar  8th Phase JP Nagar  9th Phase JP Nagar  AECS Layout  \\\n",
       "0                    0                   0                   0            0   \n",
       "1                    0                   0                   0            0   \n",
       "3                    0                   0                   0            0   \n",
       "11                   0                   0                   0            0   \n",
       "12                   1                   0                   0            0   \n",
       "\n",
       "    ...  Vittasandra  Whitefield  Yelahanka  Yelahanka New Town  Yeshwanthpur  \\\n",
       "0   ...            0           0          0                   0             0   \n",
       "1   ...            0           0          0                   0             0   \n",
       "3   ...            0           0          0                   0             0   \n",
       "11  ...            0           1          0                   0             0   \n",
       "12  ...            0           0          0                   0             0   \n",
       "\n",
       "    other  Built-up Area  Carpet Area  Plot Area  Super built-up Area  \n",
       "0       0              0            0          0                    1  \n",
       "1       0              0            0          1                    0  \n",
       "3       0              0            0          0                    1  \n",
       "11      0              0            0          1                    0  \n",
       "12      0              0            0          0                    1  \n",
       "\n",
       "[5 rows x 152 columns]"
      ]
     },
     "execution_count": 30,
     "metadata": {},
     "output_type": "execute_result"
    }
   ],
   "source": [
    "data.head()"
   ]
  },
  {
   "cell_type": "code",
   "execution_count": 31,
   "id": "b00c6253",
   "metadata": {},
   "outputs": [],
   "source": [
    "#split data into dependent feature & independent feature\n",
    "X = data.drop('price',axis=1)"
   ]
  },
  {
   "cell_type": "code",
   "execution_count": 32,
   "id": "4f63e7dc",
   "metadata": {},
   "outputs": [],
   "source": [
    "Y = data['price']"
   ]
  },
  {
   "cell_type": "code",
   "execution_count": 33,
   "id": "52158b97",
   "metadata": {},
   "outputs": [],
   "source": [
    "# Splitting the dataset into training and test set.  \n",
    "\n",
    "x_train, x_test, y_train, y_test= tts(X, Y, test_size= 0.25, random_state=28)"
   ]
  },
  {
   "cell_type": "code",
   "execution_count": 34,
   "id": "7d6440ea",
   "metadata": {},
   "outputs": [],
   "source": [
    "#feature Scaling  \n",
    "\n",
    "st_x= StandardScaler()    \n",
    "x_train= st_x.fit_transform(x_train)    \n",
    "x_test= st_x.transform(x_test)   "
   ]
  },
  {
   "cell_type": "code",
   "execution_count": 35,
   "id": "a014ce6d",
   "metadata": {},
   "outputs": [
    {
     "data": {
      "text/plain": [
       "XGBRegressor(base_score=0.5, booster='gbtree', callbacks=None,\n",
       "             colsample_bylevel=1, colsample_bynode=1, colsample_bytree=1,\n",
       "             early_stopping_rounds=None, enable_categorical=False,\n",
       "             eval_metric=None, gamma=0, gpu_id=-1, grow_policy='depthwise',\n",
       "             importance_type=None, interaction_constraints='',\n",
       "             learning_rate=0.300000012, max_bin=256, max_cat_to_onehot=4,\n",
       "             max_delta_step=0, max_depth=6, max_leaves=0, min_child_weight=1,\n",
       "             missing=nan, monotone_constraints='()', n_estimators=100, n_jobs=0,\n",
       "             num_parallel_tree=1, predictor='auto', random_state=0, reg_alpha=0,\n",
       "             reg_lambda=1, ...)"
      ]
     },
     "execution_count": 35,
     "metadata": {},
     "output_type": "execute_result"
    }
   ],
   "source": [
    "classifier=xgboost.XGBRegressor()\n",
    "classifier.fit(x_train,y_train)\n"
   ]
  },
  {
   "cell_type": "code",
   "execution_count": 36,
   "id": "669fcfe6",
   "metadata": {},
   "outputs": [],
   "source": [
    "# Hyper Parameter Optimization\n",
    "booster=['gbtree','gblinear']\n",
    "base_score=[0.25,0.5,0.75,1]\n",
    "n_estimators = [100, 500, 900, 1100, 1500]\n",
    "max_depth = [2, 3, 5, 10, 15]\n",
    "booster=['gbtree','gblinear']\n",
    "learning_rate=[0.05,0.1,0.15,0.20]\n",
    "min_child_weight=[1,2,3,4]\n",
    "\n",
    "# Define the grid of hyperparameters to search\n",
    "hyperparameter_grid = {\n",
    "    'n_estimators': n_estimators,\n",
    "    'max_depth':max_depth,\n",
    "    'learning_rate':learning_rate,\n",
    "    'min_child_weight':min_child_weight,\n",
    "    'booster':booster,\n",
    "    'base_score':base_score\n",
    "    }\n",
    "\n",
    "# Set up the random search with 5-fold cross validation\n",
    "random_cv = RandomizedSearchCV(estimator=classifier,\n",
    "param_distributions=hyperparameter_grid,\n",
    "            cv=5, n_iter=50,\n",
    "            scoring = 'neg_mean_absolute_error',n_jobs = 4,\n",
    "            verbose = 5, \n",
    "return_train_score = True,\n",
    "random_state=28)\n"
   ]
  },
  {
   "cell_type": "code",
   "execution_count": 37,
   "id": "d9e28eff",
   "metadata": {},
   "outputs": [
    {
     "name": "stdout",
     "output_type": "stream",
     "text": [
      "Fitting 5 folds for each of 50 candidates, totalling 250 fits\n"
     ]
    },
    {
     "data": {
      "text/plain": [
       "XGBRegressor(base_score=0.5, booster='gbtree', callbacks=None,\n",
       "             colsample_bylevel=1, colsample_bynode=1, colsample_bytree=1,\n",
       "             early_stopping_rounds=None, enable_categorical=False,\n",
       "             eval_metric=None, gamma=0, gpu_id=-1, grow_policy='depthwise',\n",
       "             importance_type=None, interaction_constraints='',\n",
       "             learning_rate=0.2, max_bin=256, max_cat_to_onehot=4,\n",
       "             max_delta_step=0, max_depth=3, max_leaves=0, min_child_weight=1,\n",
       "             missing=nan, monotone_constraints='()', n_estimators=900, n_jobs=0,\n",
       "             num_parallel_tree=1, predictor='auto', random_state=0, reg_alpha=0,\n",
       "             reg_lambda=1, ...)"
      ]
     },
     "execution_count": 37,
     "metadata": {},
     "output_type": "execute_result"
    }
   ],
   "source": [
    "random_cv.fit(x_train,y_train)\n",
    "random_cv.best_estimator_\n"
   ]
  },
  {
   "cell_type": "code",
   "execution_count": 38,
   "id": "b8f00bd0",
   "metadata": {},
   "outputs": [],
   "source": [
    "regressor_gbdt = xgboost.XGBRegressor(base_score=0.25, booster='gbtree', colsample_bylevel=1,\n",
    "colsample_bytree=1, gamma=0, learning_rate=0.1, max_delta_step=0,\n",
    "max_depth=2, min_child_weight=1, missing=1, n_estimators=900,\n",
    "n_jobs=1, nthread=None, objective='reg:squarederror', random_state=28,\n",
    "reg_alpha=0, reg_lambda=1, scale_pos_weight=1, seed=None, subsample=1)\n",
    "regressor_gbdt.fit(x_train,y_train)\n",
    "\n",
    "# Saving as pickle file\n",
    "filename = 'finalized_model.pkl'\n",
    "pickle.dump(regressor_gbdt, open(filename,'wb'))\n",
    "\n"
   ]
  },
  {
   "cell_type": "code",
   "execution_count": 39,
   "id": "dc492ee2",
   "metadata": {},
   "outputs": [],
   "source": [
    "y_pred_gbdt = regressor_gbdt.predict(x_test)"
   ]
  },
  {
   "cell_type": "code",
   "execution_count": 40,
   "id": "bdc2c286",
   "metadata": {},
   "outputs": [
    {
     "data": {
      "text/plain": [
       "array([52.417362, 59.488613, 12.506068, ..., 42.579426, 34.814323,\n",
       "       55.89734 ], dtype=float32)"
      ]
     },
     "execution_count": 40,
     "metadata": {},
     "output_type": "execute_result"
    }
   ],
   "source": [
    "y_pred_gbdt"
   ]
  },
  {
   "cell_type": "code",
   "execution_count": 41,
   "id": "d255341c",
   "metadata": {},
   "outputs": [
    {
     "data": {
      "text/plain": [
       "27.48816704053482"
      ]
     },
     "execution_count": 41,
     "metadata": {},
     "output_type": "execute_result"
    }
   ],
   "source": [
    "mse = mean_squared_error(y_test, y_pred_gbdt)\n",
    "sqrt(mse)\n"
   ]
  },
  {
   "cell_type": "code",
   "execution_count": 42,
   "id": "71f9565b",
   "metadata": {},
   "outputs": [
    {
     "data": {
      "text/plain": [
       "Text(0.5, 1.0, 'Prices vs Predicted prices: ₹y_i₹ vs ₹\\\\hat{y}_i₹')"
      ]
     },
     "execution_count": 42,
     "metadata": {},
     "output_type": "execute_result"
    },
    {
     "data": {
      "image/png": "[encoded data removed]",
      "text/plain": [
       "<Figure size 432x288 with 1 Axes>"
      ]
     },
     "metadata": {
      "needs_background": "light"
     },
     "output_type": "display_data"
    }
   ],
   "source": [
    "plt.scatter(y_test, y_pred_gbdt)\n",
    "plt.xlabel(\"Prices: ₹y_i₹\")\n",
    "plt.ylabel(\"Prices: ₹\\hat{y}_i₹\")\n",
    "plt.title(\"Prices vs Predicted prices: ₹y_i₹ vs ₹\\hat{y}_i₹\")\n"
   ]
  },
  {
   "cell_type": "code",
   "execution_count": 43,
   "id": "09f83c4b",
   "metadata": {},
   "outputs": [
    {
     "data": {
      "image/png": "[encoded data removed]",
      "text/plain": [
       "<Figure size 432x288 with 1 Axes>"
      ]
     },
     "metadata": {},
     "output_type": "display_data"
    },
    {
     "data": {
      "image/png": "[encoded data removed]",
      "text/plain": [
       "<Figure size 432x288 with 1 Axes>"
      ]
     },
     "metadata": {},
     "output_type": "display_data"
    }
   ],
   "source": [
    "sns.set_style('whitegrid')\n",
    "sns.kdeplot(np.array(y_test))\n",
    "plt.show()\n",
    "\n",
    "sns.kdeplot(np.array(y_pred_gbdt))\n",
    "plt.show()\n"
   ]
  },
  {
   "cell_type": "code",
   "execution_count": 44,
   "id": "c726fc90",
   "metadata": {},
   "outputs": [
    {
     "data": {
      "text/plain": [
       "RandomForestRegressor(random_state=28)"
      ]
     },
     "execution_count": 44,
     "metadata": {},
     "output_type": "execute_result"
    }
   ],
   "source": [
    "regressor_rf = RandomForestRegressor(random_state = 28)\n",
    "regressor_rf.fit(x_train, y_train)\n"
   ]
  },
  {
   "cell_type": "code",
   "execution_count": 45,
   "id": "382c3f0d",
   "metadata": {},
   "outputs": [],
   "source": [
    "y_pred_rf = regressor_rf.predict(x_test)"
   ]
  },
  {
   "cell_type": "code",
   "execution_count": 46,
   "id": "ff4a8ab4",
   "metadata": {},
   "outputs": [
    {
     "data": {
      "text/plain": [
       "array([51.72312302, 65.0271    , 30.12807583, ..., 51.07693333,\n",
       "       32.41045   , 46.85367   ])"
      ]
     },
     "execution_count": 46,
     "metadata": {},
     "output_type": "execute_result"
    }
   ],
   "source": [
    "y_pred_rf"
   ]
  },
  {
   "cell_type": "code",
   "execution_count": 47,
   "id": "9e67614b",
   "metadata": {},
   "outputs": [
    {
     "data": {
      "text/plain": [
       "28.74199002384812"
      ]
     },
     "execution_count": 47,
     "metadata": {},
     "output_type": "execute_result"
    }
   ],
   "source": [
    "mse = mean_squared_error(y_test, y_pred_rf)\n",
    "sqrt(mse)\n"
   ]
  },
  {
   "cell_type": "code",
   "execution_count": 48,
   "id": "74454815",
   "metadata": {},
   "outputs": [
    {
     "data": {
      "text/plain": [
       "Text(0.5, 1.0, 'Prices vs Predicted prices: ₹y_i₹ vs ₹\\\\hat{y}_i₹')"
      ]
     },
     "execution_count": 48,
     "metadata": {},
     "output_type": "execute_result"
    },
    {
     "data": {
      "image/png": "[encoded data removed]",
      "text/plain": [
       "<Figure size 432x288 with 1 Axes>"
      ]
     },
     "metadata": {},
     "output_type": "display_data"
    }
   ],
   "source": [
    "plt.scatter(y_test, y_pred_rf)\n",
    "plt.xlabel(\"Prices: ₹y_i₹\")\n",
    "plt.ylabel(\"Prices: ₹\\hat{y}_i₹\")\n",
    "plt.title(\"Prices vs Predicted prices: ₹y_i₹ vs ₹\\hat{y}_i₹\")\n"
   ]
  },
  {
   "cell_type": "code",
   "execution_count": 49,
   "id": "16dec732",
   "metadata": {},
   "outputs": [
    {
     "data": {
      "image/png": "[encoded data removed]",
      "text/plain": [
       "<Figure size 432x288 with 1 Axes>"
      ]
     },
     "metadata": {},
     "output_type": "display_data"
    },
    {
     "data": {
      "image/png": "[encoded data removed]",
      "text/plain": [
       "<Figure size 432x288 with 1 Axes>"
      ]
     },
     "metadata": {},
     "output_type": "display_data"
    }
   ],
   "source": [
    "sns.set_style('whitegrid')\n",
    "sns.kdeplot(np.array(y_test))\n",
    "plt.show()\n",
    "sns.kdeplot(np.array(y_pred_rf))\n",
    "plt.show()\n"
   ]
  },
  {
   "cell_type": "code",
   "execution_count": 50,
   "id": "53c8b369",
   "metadata": {},
   "outputs": [
    {
     "name": "stdout",
     "output_type": "stream",
     "text": [
      "(4191, 151)\n",
      "(1048, 151)\n",
      "(4191,)\n",
      "(1048,)\n"
     ]
    }
   ],
   "source": [
    "x_train1, x_test1, y_train1, y_test1 = tts(X, Y, test_size = 0.2, random_state = 28)\n",
    "print(x_train1.shape)\n",
    "print(x_test1.shape)\n",
    "print(y_train1.shape)\n",
    "print(y_test1.shape)"
   ]
  },
  {
   "cell_type": "code",
   "execution_count": 51,
   "id": "a47638a3",
   "metadata": {},
   "outputs": [
    {
     "data": {
      "text/plain": [
       "XGBRegressor(base_score=0.5, booster='gbtree', callbacks=None,\n",
       "             colsample_bylevel=1, colsample_bynode=1, colsample_bytree=1,\n",
       "             early_stopping_rounds=None, enable_categorical=False,\n",
       "             eval_metric=None, gamma=0, gpu_id=-1, grow_policy='depthwise',\n",
       "             importance_type=None, interaction_constraints='',\n",
       "             learning_rate=0.300000012, max_bin=256, max_cat_to_onehot=4,\n",
       "             max_delta_step=0, max_depth=6, max_leaves=0, min_child_weight=1,\n",
       "             missing=nan, monotone_constraints='()', n_estimators=100, n_jobs=0,\n",
       "             num_parallel_tree=1, predictor='auto', random_state=0, reg_alpha=0,\n",
       "             reg_lambda=1, ...)"
      ]
     },
     "execution_count": 51,
     "metadata": {},
     "output_type": "execute_result"
    }
   ],
   "source": [
    "classifier=xgboost.XGBRegressor()\n",
    "classifier.fit(x_train1,y_train1)\n"
   ]
  },
  {
   "cell_type": "code",
   "execution_count": 52,
   "id": "6bd9a6aa",
   "metadata": {},
   "outputs": [],
   "source": [
    "# Hyper Parameter Optimization\n",
    "booster=['gbtree','gblinear']\n",
    "base_score=[0.25,0.5,0.75,1]\n",
    "n_estimators = [100, 500, 900, 1100, 1500]\n",
    "max_depth = [2, 3, 5, 10, 15]\n",
    "booster=['gbtree','gblinear']\n",
    "learning_rate=[0.05,0.1,0.15,0.20]\n",
    "min_child_weight=[1,2,3,4]\n",
    "\n",
    "# Define the grid of hyperparameters to search\n",
    "hyperparameter_grid = {\n",
    "    'n_estimators': n_estimators,\n",
    "    'max_depth':max_depth,\n",
    "    'learning_rate':learning_rate,\n",
    "    'min_child_weight':min_child_weight,\n",
    "    'booster':booster,\n",
    "    'base_score':base_score\n",
    "    }\n",
    "\n",
    "# Set up the random search with 5-fold cross validation\n",
    "random_cv = RandomizedSearchCV(estimator=classifier,\n",
    "param_distributions=hyperparameter_grid,\n",
    "            cv=5, n_iter=50,\n",
    "            scoring = 'neg_mean_absolute_error',n_jobs = 4,\n",
    "            verbose = 5, \n",
    "return_train_score = True,\n",
    "random_state=28)\n"
   ]
  },
  {
   "cell_type": "code",
   "execution_count": 53,
   "id": "b53af4f2",
   "metadata": {},
   "outputs": [
    {
     "name": "stdout",
     "output_type": "stream",
     "text": [
      "Fitting 5 folds for each of 50 candidates, totalling 250 fits\n"
     ]
    },
    {
     "data": {
      "text/plain": [
       "XGBRegressor(base_score=0.5, booster='gbtree', callbacks=None,\n",
       "             colsample_bylevel=1, colsample_bynode=1, colsample_bytree=1,\n",
       "             early_stopping_rounds=None, enable_categorical=False,\n",
       "             eval_metric=None, gamma=0, gpu_id=-1, grow_policy='depthwise',\n",
       "             importance_type=None, interaction_constraints='',\n",
       "             learning_rate=0.2, max_bin=256, max_cat_to_onehot=4,\n",
       "             max_delta_step=0, max_depth=3, max_leaves=0, min_child_weight=1,\n",
       "             missing=nan, monotone_constraints='()', n_estimators=900, n_jobs=0,\n",
       "             num_parallel_tree=1, predictor='auto', random_state=0, reg_alpha=0,\n",
       "             reg_lambda=1, ...)"
      ]
     },
     "execution_count": 53,
     "metadata": {},
     "output_type": "execute_result"
    }
   ],
   "source": [
    "random_cv.fit(x_train1,y_train1)\n",
    "random_cv.best_estimator_\n"
   ]
  },
  {
   "cell_type": "code",
   "execution_count": 54,
   "id": "879a8bf6",
   "metadata": {},
   "outputs": [],
   "source": [
    "regressor_gbdt = xgboost.XGBRegressor(base_score=0.25, booster='gbtree', colsample_bylevel=1,\n",
    "colsample_bytree=1, gamma=0, learning_rate=0.1, max_delta_step=0,\n",
    "max_depth=2, min_child_weight=1, missing=1, n_estimators=900,\n",
    "n_jobs=1, nthread=None, objective='reg:squarederror', random_state=28,\n",
    "reg_alpha=0, reg_lambda=1, scale_pos_weight=1, seed=None, subsample=1)\n",
    "regressor_gbdt.fit(x_train1,y_train1)\n",
    "\n",
    "# Saving as pickle file\n",
    "filename = 'finalized_model.pkl'\n",
    "pickle.dump(regressor_gbdt, open(filename,'wb'))\n"
   ]
  },
  {
   "cell_type": "code",
   "execution_count": 55,
   "id": "fffa21fa",
   "metadata": {},
   "outputs": [],
   "source": [
    "y_pred_gbdt1 = regressor_gbdt.predict(x_test1)"
   ]
  },
  {
   "cell_type": "code",
   "execution_count": 56,
   "id": "c5e3ff8b",
   "metadata": {},
   "outputs": [
    {
     "data": {
      "text/plain": [
       "array([ 50.883877,  59.36891 ,  12.528022, ...,  69.074875,  51.196785,\n",
       "       210.11153 ], dtype=float32)"
      ]
     },
     "execution_count": 56,
     "metadata": {},
     "output_type": "execute_result"
    }
   ],
   "source": [
    "y_pred_gbdt1"
   ]
  },
  {
   "cell_type": "code",
   "execution_count": 57,
   "id": "eff78e2f",
   "metadata": {},
   "outputs": [
    {
     "data": {
      "text/plain": [
       "27.605272525325667"
      ]
     },
     "execution_count": 57,
     "metadata": {},
     "output_type": "execute_result"
    }
   ],
   "source": [
    "mse = mean_squared_error(y_test1, y_pred_gbdt1)\n",
    "sqrt(mse)\n"
   ]
  },
  {
   "cell_type": "code",
   "execution_count": 58,
   "id": "f5907b33",
   "metadata": {},
   "outputs": [
    {
     "data": {
      "text/plain": [
       "Text(0.5, 1.0, 'Prices vs Predicted prices: ₹y_i₹ vs ₹\\\\hat{y}_i₹')"
      ]
     },
     "execution_count": 58,
     "metadata": {},
     "output_type": "execute_result"
    },
    {
     "data": {
      "image/png": "[encoded data removed]",
      "text/plain": [
       "<Figure size 432x288 with 1 Axes>"
      ]
     },
     "metadata": {},
     "output_type": "display_data"
    }
   ],
   "source": [
    "plt.scatter(y_test1, y_pred_gbdt1)\n",
    "plt.xlabel(\"Prices: ₹y_i₹\")\n",
    "plt.ylabel(\"Prices: ₹\\hat{y}_i₹\")\n",
    "plt.title(\"Prices vs Predicted prices: ₹y_i₹ vs ₹\\hat{y}_i₹\")\n"
   ]
  },
  {
   "cell_type": "code",
   "execution_count": 59,
   "id": "fe9f0baf",
   "metadata": {},
   "outputs": [
    {
     "data": {
      "image/png": "[encoded data removed]",
      "text/plain": [
       "<Figure size 432x288 with 1 Axes>"
      ]
     },
     "metadata": {},
     "output_type": "display_data"
    },
    {
     "data": {
      "image/png": "[encoded data removed]",
      "text/plain": [
       "<Figure size 432x288 with 1 Axes>"
      ]
     },
     "metadata": {},
     "output_type": "display_data"
    }
   ],
   "source": [
    "sns.set_style('whitegrid')\n",
    "sns.kdeplot(np.array(y_test1))\n",
    "plt.show()\n",
    "sns.kdeplot(np.array(y_pred_gbdt1))\n",
    "plt.show()\n"
   ]
  },
  {
   "cell_type": "code",
   "execution_count": 60,
   "id": "347bea4a",
   "metadata": {},
   "outputs": [
    {
     "data": {
      "text/plain": [
       "RandomForestRegressor(random_state=28)"
      ]
     },
     "execution_count": 60,
     "metadata": {},
     "output_type": "execute_result"
    }
   ],
   "source": [
    "regressor_rf = RandomForestRegressor(random_state = 28)\n",
    "regressor_rf.fit(x_train1, y_train1)"
   ]
  },
  {
   "cell_type": "code",
   "execution_count": 61,
   "id": "85062aba",
   "metadata": {},
   "outputs": [],
   "source": [
    "y_pred_rf1 = regressor_rf.predict(x_test1)"
   ]
  },
  {
   "cell_type": "code",
   "execution_count": 62,
   "id": "d4325486",
   "metadata": {},
   "outputs": [
    {
     "data": {
      "text/plain": [
       "array([ 51.09836833,  64.94372857,  27.88542857, ...,  75.25148384,\n",
       "        62.04583333, 184.12666667])"
      ]
     },
     "execution_count": 62,
     "metadata": {},
     "output_type": "execute_result"
    }
   ],
   "source": [
    "y_pred_rf1"
   ]
  },
  {
   "cell_type": "code",
   "execution_count": 63,
   "id": "4297d029",
   "metadata": {},
   "outputs": [
    {
     "data": {
      "text/plain": [
       "27.72837449871274"
      ]
     },
     "execution_count": 63,
     "metadata": {},
     "output_type": "execute_result"
    }
   ],
   "source": [
    "mse = mean_squared_error(y_test1, y_pred_rf1)\n",
    "sqrt(mse)"
   ]
  },
  {
   "cell_type": "code",
   "execution_count": 64,
   "id": "16a264c3",
   "metadata": {},
   "outputs": [
    {
     "data": {
      "text/plain": [
       "Text(0.5, 1.0, 'Prices vs Predicted prices: ₹y_i₹ vs ₹\\\\hat{y}_i₹')"
      ]
     },
     "execution_count": 64,
     "metadata": {},
     "output_type": "execute_result"
    },
    {
     "data": {
      "image/png": "[encoded data removed]",
      "text/plain": [
       "<Figure size 432x288 with 1 Axes>"
      ]
     },
     "metadata": {},
     "output_type": "display_data"
    }
   ],
   "source": [
    "plt.scatter(y_test1, y_pred_rf1)\n",
    "plt.xlabel(\"Prices: ₹y_i₹\")\n",
    "plt.ylabel(\"Prices: ₹\\hat{y}_i₹\")\n",
    "plt.title(\"Prices vs Predicted prices: ₹y_i₹ vs ₹\\hat{y}_i₹\")\n"
   ]
  },
  {
   "cell_type": "code",
   "execution_count": 65,
   "id": "a352daa9",
   "metadata": {},
   "outputs": [
    {
     "data": {
      "image/png": "[encoded data removed]",
      "text/plain": [
       "<Figure size 432x288 with 1 Axes>"
      ]
     },
     "metadata": {},
     "output_type": "display_data"
    },
    {
     "data": {
      "image/png": "[encoded data removed]",
      "text/plain": [
       "<Figure size 432x288 with 1 Axes>"
      ]
     },
     "metadata": {},
     "output_type": "display_data"
    }
   ],
   "source": [
    "sns.set_style('whitegrid')\n",
    "sns.kdeplot(np.array(y_test1))\n",
    "plt.show()\n",
    "\n",
    "sns.kdeplot(np.array(y_pred_rf1))\n",
    "plt.show()"
   ]
  },
  {
   "cell_type": "code",
   "execution_count": 66,
   "id": "d4028bb7",
   "metadata": {},
   "outputs": [
    {
     "name": "stdout",
     "output_type": "stream",
     "text": [
      "(3405, 151)\n",
      "(1834, 151)\n",
      "(3405,)\n",
      "(1834,)\n"
     ]
    }
   ],
   "source": [
    "x_train2, x_test2, y_train2, y_test2 = tts(X, Y, test_size = 0.35, random_state = 28)\n",
    "print(x_train2.shape)\n",
    "print(x_test2.shape)\n",
    "print(y_train2.shape)\n",
    "print(y_test2.shape)"
   ]
  },
  {
   "cell_type": "code",
   "execution_count": 67,
   "id": "4cc278f2",
   "metadata": {},
   "outputs": [
    {
     "data": {
      "text/plain": [
       "XGBRegressor(base_score=0.5, booster='gbtree', callbacks=None,\n",
       "             colsample_bylevel=1, colsample_bynode=1, colsample_bytree=1,\n",
       "             early_stopping_rounds=None, enable_categorical=False,\n",
       "             eval_metric=None, gamma=0, gpu_id=-1, grow_policy='depthwise',\n",
       "             importance_type=None, interaction_constraints='',\n",
       "             learning_rate=0.300000012, max_bin=256, max_cat_to_onehot=4,\n",
       "             max_delta_step=0, max_depth=6, max_leaves=0, min_child_weight=1,\n",
       "             missing=nan, monotone_constraints='()', n_estimators=100, n_jobs=0,\n",
       "             num_parallel_tree=1, predictor='auto', random_state=0, reg_alpha=0,\n",
       "             reg_lambda=1, ...)"
      ]
     },
     "execution_count": 67,
     "metadata": {},
     "output_type": "execute_result"
    }
   ],
   "source": [
    "classifier=xgboost.XGBRegressor()\n",
    "classifier.fit(x_train2,y_train2)"
   ]
  },
  {
   "cell_type": "code",
   "execution_count": 68,
   "id": "c4eceb95",
   "metadata": {},
   "outputs": [],
   "source": [
    "# Hyper Parameter Optimization\n",
    "booster=['gbtree','gblinear']\n",
    "base_score=[0.25,0.5,0.75,1]\n",
    "n_estimators = [100, 500, 900, 1100, 1500]\n",
    "max_depth = [2, 3, 5, 10, 15]\n",
    "booster=['gbtree','gblinear']\n",
    "learning_rate=[0.05,0.1,0.15,0.20]\n",
    "min_child_weight=[1,2,3,4]\n",
    "\n",
    "# Define the grid of hyperparameters to search\n",
    "hyperparameter_grid = {\n",
    "    'n_estimators': n_estimators,\n",
    "    'max_depth':max_depth,\n",
    "    'learning_rate':learning_rate,\n",
    "    'min_child_weight':min_child_weight,\n",
    "    'booster':booster,\n",
    "    'base_score':base_score\n",
    "    }\n",
    "\n",
    "# Set up the random search with 5-fold cross validation\n",
    "random_cv = RandomizedSearchCV(estimator=classifier,\n",
    "param_distributions=hyperparameter_grid,\n",
    "            cv=5, n_iter=50,\n",
    "            scoring = 'neg_mean_absolute_error',n_jobs = 4,\n",
    "            verbose = 5, \n",
    "return_train_score = True,\n",
    "random_state=28)\n"
   ]
  },
  {
   "cell_type": "code",
   "execution_count": 69,
   "id": "504b3ff5",
   "metadata": {},
   "outputs": [
    {
     "name": "stdout",
     "output_type": "stream",
     "text": [
      "Fitting 5 folds for each of 50 candidates, totalling 250 fits\n"
     ]
    },
    {
     "data": {
      "text/plain": [
       "XGBRegressor(base_score=0.5, booster='gbtree', callbacks=None,\n",
       "             colsample_bylevel=1, colsample_bynode=1, colsample_bytree=1,\n",
       "             early_stopping_rounds=None, enable_categorical=False,\n",
       "             eval_metric=None, gamma=0, gpu_id=-1, grow_policy='depthwise',\n",
       "             importance_type=None, interaction_constraints='',\n",
       "             learning_rate=0.1, max_bin=256, max_cat_to_onehot=4,\n",
       "             max_delta_step=0, max_depth=5, max_leaves=0, min_child_weight=2,\n",
       "             missing=nan, monotone_constraints='()', n_estimators=900, n_jobs=0,\n",
       "             num_parallel_tree=1, predictor='auto', random_state=0, reg_alpha=0,\n",
       "             reg_lambda=1, ...)"
      ]
     },
     "execution_count": 69,
     "metadata": {},
     "output_type": "execute_result"
    }
   ],
   "source": [
    "random_cv.fit(x_train2,y_train2)\n",
    "random_cv.best_estimator_\n"
   ]
  },
  {
   "cell_type": "code",
   "execution_count": 70,
   "id": "01059245",
   "metadata": {},
   "outputs": [],
   "source": [
    "regressor_gbdt = xgboost.XGBRegressor(base_score=0.25, booster='gbtree', colsample_bylevel=1,\n",
    "colsample_bytree=1, gamma=0, learning_rate=0.1, max_delta_step=0,\n",
    "max_depth=2, min_child_weight=1, missing=1, n_estimators=900,\n",
    "n_jobs=1, nthread=None, objective='reg:squarederror', random_state=28,\n",
    "reg_alpha=0, reg_lambda=1, scale_pos_weight=1, seed=None, subsample=1)\n",
    "regressor_gbdt.fit(x_train2,y_train2)\n",
    "\n",
    "# Saving as pickle file\n",
    "filename = 'finalized_model.pkl'\n",
    "pickle.dump(regressor_gbdt, open(filename,'wb'))\n"
   ]
  },
  {
   "cell_type": "code",
   "execution_count": 71,
   "id": "8d55db79",
   "metadata": {},
   "outputs": [],
   "source": [
    "y_pred_gbdt2 = regressor_gbdt.predict(x_test2)"
   ]
  },
  {
   "cell_type": "code",
   "execution_count": 72,
   "id": "6178cb49",
   "metadata": {},
   "outputs": [
    {
     "data": {
      "text/plain": [
       "array([ 50.879837,  61.63524 ,   9.519239, ..., 312.643   , 145.66873 ,\n",
       "        93.69833 ], dtype=float32)"
      ]
     },
     "execution_count": 72,
     "metadata": {},
     "output_type": "execute_result"
    }
   ],
   "source": [
    "y_pred_gbdt2"
   ]
  },
  {
   "cell_type": "code",
   "execution_count": 73,
   "id": "ba0a4786",
   "metadata": {},
   "outputs": [
    {
     "data": {
      "text/plain": [
       "27.737558011391368"
      ]
     },
     "execution_count": 73,
     "metadata": {},
     "output_type": "execute_result"
    }
   ],
   "source": [
    "mse = mean_squared_error(y_test2, y_pred_gbdt2)\n",
    "sqrt(mse)\n"
   ]
  },
  {
   "cell_type": "code",
   "execution_count": 74,
   "id": "6ecec20a",
   "metadata": {},
   "outputs": [
    {
     "data": {
      "text/plain": [
       "Text(0.5, 1.0, 'Prices vs Predicted prices: ₹y_i₹ vs ₹\\\\hat{y}_i₹')"
      ]
     },
     "execution_count": 74,
     "metadata": {},
     "output_type": "execute_result"
    },
    {
     "data": {
      "image/png": "[encoded data removed]",
      "text/plain": [
       "<Figure size 432x288 with 1 Axes>"
      ]
     },
     "metadata": {},
     "output_type": "display_data"
    }
   ],
   "source": [
    "plt.scatter(y_test2, y_pred_gbdt2)\n",
    "plt.xlabel(\"Prices: ₹y_i₹\")\n",
    "plt.ylabel(\"Prices: ₹\\hat{y}_i₹\")\n",
    "plt.title(\"Prices vs Predicted prices: ₹y_i₹ vs ₹\\hat{y}_i₹\")\n"
   ]
  },
  {
   "cell_type": "code",
   "execution_count": 75,
   "id": "5fa97c39",
   "metadata": {},
   "outputs": [
    {
     "data": {
      "image/png": "[encoded data removed]",
      "text/plain": [
       "<Figure size 432x288 with 1 Axes>"
      ]
     },
     "metadata": {},
     "output_type": "display_data"
    },
    {
     "data": {
      "image/png": "[encoded data removed]",
      "text/plain": [
       "<Figure size 432x288 with 1 Axes>"
      ]
     },
     "metadata": {},
     "output_type": "display_data"
    }
   ],
   "source": [
    "sns.set_style('whitegrid')\n",
    "sns.kdeplot(np.array(y_test2))\n",
    "plt.show()\n",
    "sns.kdeplot(np.array(y_pred_gbdt2))\n",
    "plt.show()\n"
   ]
  },
  {
   "cell_type": "code",
   "execution_count": 76,
   "id": "fa9a4b42",
   "metadata": {},
   "outputs": [
    {
     "data": {
      "text/plain": [
       "RandomForestRegressor(random_state=28)"
      ]
     },
     "execution_count": 76,
     "metadata": {},
     "output_type": "execute_result"
    }
   ],
   "source": [
    "regressor_rf = RandomForestRegressor(random_state = 28)\n",
    "regressor_rf.fit(x_train2, y_train2)\n"
   ]
  },
  {
   "cell_type": "code",
   "execution_count": 77,
   "id": "8d963771",
   "metadata": {},
   "outputs": [],
   "source": [
    "y_pred_rf2 = regressor_rf.predict(x_test2)"
   ]
  },
  {
   "cell_type": "code",
   "execution_count": 78,
   "id": "e635e942",
   "metadata": {},
   "outputs": [
    {
     "data": {
      "text/plain": [
       "array([ 58.40819048,  62.5379    ,  28.65805   , ..., 324.59859524,\n",
       "       143.53066667, 105.30777143])"
      ]
     },
     "execution_count": 78,
     "metadata": {},
     "output_type": "execute_result"
    }
   ],
   "source": [
    "y_pred_rf2"
   ]
  },
  {
   "cell_type": "code",
   "execution_count": 79,
   "id": "3312afe9",
   "metadata": {},
   "outputs": [
    {
     "data": {
      "text/plain": [
       "28.46580738946621"
      ]
     },
     "execution_count": 79,
     "metadata": {},
     "output_type": "execute_result"
    }
   ],
   "source": [
    "mse = mean_squared_error(y_test2, y_pred_rf2)\n",
    "sqrt(mse)"
   ]
  },
  {
   "cell_type": "code",
   "execution_count": 80,
   "id": "1a44e1b7",
   "metadata": {},
   "outputs": [
    {
     "data": {
      "text/plain": [
       "Text(0.5, 1.0, 'Prices vs Predicted prices: ₹y_i₹ vs ₹\\\\hat{y}_i₹')"
      ]
     },
     "execution_count": 80,
     "metadata": {},
     "output_type": "execute_result"
    },
    {
     "data": {
      "image/png": "[encoded data removed]",
      "text/plain": [
       "<Figure size 432x288 with 1 Axes>"
      ]
     },
     "metadata": {},
     "output_type": "display_data"
    }
   ],
   "source": [
    "plt.scatter(y_test2, y_pred_rf2)\n",
    "plt.xlabel(\"Prices: ₹y_i₹\")\n",
    "plt.ylabel(\"Prices: ₹\\hat{y}_i₹\")\n",
    "plt.title(\"Prices vs Predicted prices: ₹y_i₹ vs ₹\\hat{y}_i₹\")\n"
   ]
  },
  {
   "cell_type": "code",
   "execution_count": 81,
   "id": "887e1980",
   "metadata": {},
   "outputs": [
    {
     "data": {
      "image/png": "[encoded data removed]",
      "text/plain": [
       "<Figure size 432x288 with 1 Axes>"
      ]
     },
     "metadata": {},
     "output_type": "display_data"
    },
    {
     "data": {
      "image/png": "[encoded data removed]",
      "text/plain": [
       "<Figure size 432x288 with 1 Axes>"
      ]
     },
     "metadata": {},
     "output_type": "display_data"
    }
   ],
   "source": [
    "sns.set_style('whitegrid')\n",
    "sns.kdeplot(np.array(y_test2))\n",
    "plt.show()\n",
    "\n",
    "sns.kdeplot(np.array(y_pred_rf2))\n",
    "plt.show()\n"
   ]
  },
  {
   "cell_type": "code",
   "execution_count": 85,
   "id": "9510d0c4",
   "metadata": {},
   "outputs": [],
   "source": [
    "cat = data.drop(['price'] , axis=1)\n",
    "index_dict = dict(zip(cat.columns,range(cat.shape[1])))\n",
    "with open('cat', 'wb') as fid:\n",
    "    pickle.dump(index_dict, fid,2)  "
   ]
  },
  {
   "cell_type": "code",
   "execution_count": 86,
   "id": "a502554a",
   "metadata": {},
   "outputs": [],
   "source": [
    "#save the column name\n",
    "location_list = list(zip(location_cat.columns,range(cat.shape[1])))"
   ]
  },
  {
   "cell_type": "code",
   "execution_count": 100,
   "id": "12253d50",
   "metadata": {},
   "outputs": [],
   "source": [
    "with open('location_cat', 'wb') as fid:\n",
    "    pickle.dump(location_list, fid,2)  "
   ]
  },
  {
   "cell_type": "code",
   "execution_count": 90,
   "id": "ef60db5a",
   "metadata": {},
   "outputs": [],
   "source": [
    "#def predict(location,area,size,bath,balcony,total_sqft):\n",
    "#    output = np.zeros(151)\n",
    " #   output[0] = total_sqft\n",
    "  #  output[1] = bath\n",
    "   # output[2] = balcony\n",
    "   # output[3] = size\n",
    "    \n",
    "    #result_location = location\n",
    "    #if result_location not in location_cat:\n",
    "     #   output[146] = 1\n",
    "    #else:\n",
    "     #   output[index_dict[str(location)]] = 1\n",
    "    \n",
    "    #return regressor_rf.predict([output])[0]"
   ]
  },
  {
   "cell_type": "code",
   "execution_count": null,
   "id": "8d48c21e",
   "metadata": {},
   "outputs": [],
   "source": []
  }
 ],
 "metadata": {
  "kernelspec": {
   "display_name": "Python 3 (ipykernel)",
   "language": "python",
   "name": "python3"
  },
  "language_info": {
   "codemirror_mode": {
    "name": "ipython",
    "version": 3
   },
   "file_extension": ".py",
   "mimetype": "text/x-python",
   "name": "python",
   "nbconvert_exporter": "python",
   "pygments_lexer": "ipython3",
   "version": "3.11.1"
  }
 },
 "nbformat": 4,
 "nbformat_minor": 5
}
